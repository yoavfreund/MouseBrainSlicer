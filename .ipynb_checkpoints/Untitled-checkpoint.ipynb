{
 "cells": [
  {
   "cell_type": "markdown",
   "metadata": {
    "ExecuteTime": {
     "end_time": "2018-07-22T00:02:29.700893Z",
     "start_time": "2018-07-22T00:02:29.566233Z"
    }
   },
   "source": [
    "Logfile was generated using `aws s3 ls --recursive s3://mousebrain-data/`"
   ]
  },
  {
   "cell_type": "code",
   "execution_count": 2,
   "metadata": {
    "ExecuteTime": {
     "end_time": "2018-07-22T00:02:29.700893Z",
     "start_time": "2018-07-22T00:02:29.566233Z"
    }
   },
   "outputs": [
    {
     "name": "stdout",
     "output_type": "stream",
     "text": [
      "2017-08-10 11:47:15  198177597 CSHL_SPM/sift_descriptors/MD585/MD585-IHC16-2015.08.19-13.14.51_MD585_3_0048_sift_descriptors.bp\r\n",
      "2017-08-10 11:49:49  176294741 CSHL_SPM/sift_descriptors/MD585/MD585-IHC17-2015.07.16-15.32.03_MD585_1_0049_sift_descriptors.bp\r\n",
      "2017-08-10 11:52:26  178701784 CSHL_SPM/sift_descriptors/MD585/MD585-IHC17-2015.07.16-15.32.03_MD585_2_0050_sift_descriptors.bp\r\n",
      "2017-08-10 11:55:02  178215214 CSHL_SPM/sift_descriptors/MD585/MD585-IHC17-2015.07.16-15.32.03_MD585_3_0051_sift_descriptors.bp\r\n",
      "2017-08-10 11:57:40  182998260 CSHL_SPM/sift_descriptors/MD585/MD585-IHC18-2015.07.16-15.35.58_MD585_1_0052_sift_descriptors.bp\r\n",
      "2017-08-10 12:00:17  186572388 CSHL_SPM/sift_descriptors/MD585/MD585-IHC18-2015.07.16-15.35.58_MD585_2_0053_sift_descriptors.bp\r\n",
      "2017-08-10 12:02:42  182884968 CSHL_SPM/sift_descriptors/MD585/MD585-IHC18-2015.07.16-15.35.58_MD585_3_0054_sift_descriptors.bp\r\n",
      "2017-08-10 12:05:05  184108333 CSHL_SPM/sift_descriptors/MD585/MD585-IHC19-2015.07.16-15.39.52_MD585_1_0055_sift_descriptors.bp\r\n",
      "2017-08-10 12:07:27  192220509 CSHL_SPM/sift_descriptors/MD585/MD585-IHC19-2015.07.16-15.39.52_MD585_2_0056_sift_descriptors.bp\r\n",
      "2017-08-10 12:09:42  183834526 CSHL_SPM/sift_descriptors/MD585/MD585-IHC19-2015.07.16-15.39.52_MD585_3_0057_sift_descriptors.bp\r\n"
     ]
    }
   ],
   "source": [
    "!head mousebran-data.ls.txt"
   ]
  },
  {
   "cell_type": "code",
   "execution_count": 14,
   "metadata": {
    "ExecuteTime": {
     "end_time": "2018-07-22T00:18:11.713982Z",
     "start_time": "2018-07-22T00:18:11.026395Z"
    }
   },
   "outputs": [
    {
     "name": "stdout",
     "output_type": "stream",
     "text": [
      "['CSHL_SPM', 'sift_descriptors', 'MD585', 'MD585-IHC16-2015.08.19-13.14.51_MD585_3_0048_sift_descriptors.bp']\n",
      "2017-08-10 11:47:15  198177597 CSHL_SPM/sift_descriptors/MD585/MD585-IHC16-2015.08.19-13.14.51_MD585_3_0048_sift_descriptors.bp\n",
      "['CSHL_SPM', 'sift_descriptors', 'MD585', 'MD585-IHC17-2015.07.16-15.32.03_MD585_1_0049_sift_descriptors.bp']\n",
      "['CSHL_SPM', 'sift_descriptors', 'MD585', 'MD585-IHC17-2015.07.16-15.32.03_MD585_2_0050_sift_descriptors.bp']\n",
      "['CSHL_SPM', 'sift_descriptors', 'MD585', 'MD585-IHC17-2015.07.16-15.32.03_MD585_3_0051_sift_descriptors.bp']\n",
      "['CSHL_SPM', 'sift_descriptors', 'MD585', 'MD585-IHC18-2015.07.16-15.35.58_MD585_1_0052_sift_descriptors.bp']\n",
      "['CSHL_SPM', 'sift_descriptors', 'MD585', 'MD585-IHC18-2015.07.16-15.35.58_MD585_2_0053_sift_descriptors.bp']\n",
      "['CSHL_SPM', 'sift_descriptors', 'MD585', 'MD585-IHC18-2015.07.16-15.35.58_MD585_3_0054_sift_descriptors.bp']\n"
     ]
    }
   ],
   "source": [
    "prev_path=''\n",
    "i=0\n",
    "for line in open('mousebran-data.ls.txt','r').readlines():\n",
    "    line=line.strip()\n",
    "    date,time,size,path=line.split()\n",
    "    date,time,size,path\n",
    "\n",
    "    path_parts=path.split(\"/\")\n",
    "    print(path_parts)\n",
    "    if prev_path=='':\n",
    "        print(line)\n",
    "        prev_path=path_parts\n",
    "        acc=[int(size)]*len(path_parts)\n",
    "        continue\n",
    "    for i in range(len(acc)):\n",
    "        if prev\n",
    "    if i>5:\n",
    "        break\n",
    "    i+=1"
   ]
  },
  {
   "cell_type": "code",
   "execution_count": 15,
   "metadata": {
    "ExecuteTime": {
     "end_time": "2018-07-22T00:18:26.649625Z",
     "start_time": "2018-07-22T00:18:26.646104Z"
    }
   },
   "outputs": [
    {
     "data": {
      "text/plain": [
       "[198177597, 198177597, 198177597, 198177597]"
      ]
     },
     "execution_count": 15,
     "metadata": {},
     "output_type": "execute_result"
    }
   ],
   "source": [
    "acc"
   ]
  },
  {
   "cell_type": "code",
   "execution_count": null,
   "metadata": {},
   "outputs": [],
   "source": []
  }
 ],
 "metadata": {
  "hide_input": false,
  "kernelspec": {
   "display_name": "Python 3",
   "language": "python",
   "name": "python3"
  },
  "language_info": {
   "codemirror_mode": {
    "name": "ipython",
    "version": 3
   },
   "file_extension": ".py",
   "mimetype": "text/x-python",
   "name": "python",
   "nbconvert_exporter": "python",
   "pygments_lexer": "ipython3",
   "version": "3.6.4"
  },
  "toc": {
   "base_numbering": 1,
   "nav_menu": {},
   "number_sections": true,
   "sideBar": true,
   "skip_h1_title": false,
   "title_cell": "Table of Contents",
   "title_sidebar": "Contents",
   "toc_cell": false,
   "toc_position": {},
   "toc_section_display": true,
   "toc_window_display": false
  }
 },
 "nbformat": 4,
 "nbformat_minor": 2
}
