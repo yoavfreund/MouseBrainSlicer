{
 "cells": [
  {
   "cell_type": "code",
   "execution_count": 1,
   "metadata": {
    "ExecuteTime": {
     "end_time": "2018-07-20T20:54:03.954789Z",
     "start_time": "2018-07-20T20:54:03.944070Z"
    }
   },
   "outputs": [],
   "source": [
    "X=\"\"\"\n",
    "colors.alice_blue            colors.cold_grey             colors.ivory                 colors.papaya_whip           colors.slate_grey_light\n",
    "colors.alizarin_crimson      colors.coral                 colors.ivory_black           colors.peach_puff            colors.snow\n",
    "colors.antique_white         colors.coral_light           colors.khaki                 colors.peacock               colors.spring_green\n",
    "colors.aquamarine            colors.cornflower            colors.khaki_dark            colors.permanent_green       colors.spring_green_medium\n",
    "colors.aquamarine_medium     colors.cornsilk              colors.lamp_black            colors.permanent_red_violet  colors.steel_blue\n",
    "colors.aureoline_yellow      colors.cyan                  colors.lavender              colors.peru                  colors.steel_blue_light\n",
    "colors.azure                 colors.cyan_white            colors.lavender_blush        colors.pink                  colors.tan\n",
    "colors.banana                colors.dark_orange           colors.lawn_green            colors.pink_light            colors.terre_verte\n",
    "colors.beige                 colors.deep_ochre            colors.lemon_chiffon         colors.plum                  colors.thistle\n",
    "colors.bisque                colors.deep_pink             colors.light_beige           colors.powder_blue           colors.titanium_white\n",
    "colors.black                 colors.dim_grey              colors.light_goldenrod       colors.purple                colors.tomato\n",
    "colors.blanched_almond       colors.dodger_blue           colors.light_grey            colors.purple_medium         colors.turquoise\n",
    "colors.blue                  colors.eggshell              colors.light_salmon          colors.raspberry             colors.turquoise_blue\n",
    "colors.blue_light            colors.emerald_green         colors.lime_green            colors.raw_sienna            colors.turquoise_dark\n",
    "colors.blue_medium           colors.english_red           colors.linen                 colors.raw_umber             colors.turquoise_medium\n",
    "colors.blue_violet           colors.firebrick             colors.madder_lake_deep      colors.red                   colors.turquoise_pale\n",
    "colors.brick                 colors.flesh                 colors.magenta               colors.rose_madder           colors.ultramarine\n",
    "colors.brown                 colors.flesh_ochre           colors.manganese_blue        colors.rosy_brown            colors.ultramarine_violet\n",
    "colors.brown_madder          colors.floral_white          colors.maroon                colors.royal_blue            colors.van_dyke_brown\n",
    "colors.brown_ochre           colors.forest_green          colors.mars_orange           colors.saddle_brown          colors.venetian_red\n",
    "colors.burlywood             colors.gainsboro             colors.mars_yellow           colors.salmon                colors.violet\n",
    "colors.burnt_sienna          colors.geranium_lake         colors.melon                 colors.sandy_brown           colors.violet_dark\n",
    "colors.burnt_umber           colors.ghost_white           colors.midnight_blue         colors.sap_green             colors.violet_red\n",
    "colors.cadet                 colors.gold                  colors.mint                  colors.sea_green             colors.violet_red_medium\n",
    "colors.cadmium_lemon         colors.gold_ochre            colors.mint_cream            colors.sea_green_dark        colors.violet_red_pale\n",
    "colors.cadmium_orange        colors.goldenrod             colors.misty_rose            colors.sea_green_light       colors.viridian_light\n",
    "colors.cadmium_red_deep      colors.goldenrod_dark        colors.moccasin              colors.sea_green_medium      colors.warm_grey\n",
    "colors.cadmium_red_light     colors.goldenrod_light       colors.naples_yellow_deep    colors.seashell              colors.wheat\n",
    "colors.cadmium_yellow        colors.goldenrod_pale        colors.navajo_white          colors.sepia                 colors.white\n",
    "colors.cadmium_yellow_light  colors.green                 colors.navy                  colors.sienna                colors.white_smoke\n",
    "colors.carrot                colors.green_dark            colors.old_lace              colors.sky_blue              colors.yellow\n",
    "colors.cerulean              colors.green_pale            colors.olive                 colors.sky_blue_deep         colors.yellow_green\n",
    "colors.chartreuse            colors.green_yellow          colors.olive_drab            colors.sky_blue_light        colors.yellow_light\n",
    "colors.chocolate             colors.greenish_umber        colors.olive_green_dark      colors.slate_blue            colors.yellow_ochre\n",
    "colors.chrome_oxide_green    colors.grey                  colors.orange                colors.slate_blue_dark       colors.zinc_white\n",
    "colors.cinnabar_green        colors.honeydew              colors.orange_red            colors.slate_blue_light\n",
    "colors.cobalt                colors.hot_pink              colors.orchid                colors.slate_blue_medium\n",
    "colors.cobalt_green          colors.indian_red            colors.orchid_dark           colors.slate_grey\n",
    "colors.cobalt_violet_deep    colors.indigo                colors.orchid_medium         colors.slate_grey_dark\n",
    "\"\"\""
   ]
  },
  {
   "cell_type": "code",
   "execution_count": 9,
   "metadata": {
    "ExecuteTime": {
     "end_time": "2018-07-20T21:05:53.391254Z",
     "start_time": "2018-07-20T21:05:53.362648Z"
    }
   },
   "outputs": [],
   "source": [
    "X=\"\"\"\n",
    "    \"800000\", \"Maroon\",\n",
    "    \"8B0000\", \"DarkRed\",\n",
    "    \"B22222\", \"FireBrick\",\n",
    "    \"FF0000\", \"Red\",\n",
    "    \"FA8072\", \"Salmon\",\n",
    "    \"FF6347\", \"Tomato\",\n",
    "    \"FF7F50\", \"Coral\",\n",
    "    \"FF4500\", \"OrangeRed\",\n",
    "    \"D2691E\", \"Chocolate\",\n",
    "    \"F4A460\", \"SandyBrown\",\n",
    "    \"FF8C00\", \"DarkOrange\",\n",
    "    \"FFA500\", \"Orange\",\n",
    "    \"B8860B\", \"DarkGoldenrod\",\n",
    "    \"DAA520\", \"Goldenrod\",\n",
    "    \"FFD700\", \"Gold\",\n",
    "    \"808000\", \"Olive\",\n",
    "    \"FFFF00\", \"Yellow\",\n",
    "    \"9ACD32\", \"YellowGreen\",\n",
    "    \"ADFF2F\", \"GreenYellow\",\n",
    "    \"7FFF00\", \"Chartreuse\",\n",
    "    \"7CFC00\", \"LawnGreen\",\n",
    "    \"008000\", \"Green\",\n",
    "    \"00FF00\", \"Lime\",\n",
    "    \"32CD32\", \"LimeGreen\",\n",
    "    \"00FF7F\", \"SpringGreen\",\n",
    "    \"00FA9A\", \"MediumSpringGreen\",\n",
    "    \"40E0D0\", \"Turquoise\",\n",
    "    \"20B2AA\", \"LightSeaGreen\",\n",
    "    \"48D1CC\", \"MediumTurquoise\",\n",
    "    \"008080\", \"Teal\",\n",
    "    \"008B8B\", \"DarkCyan\",\n",
    "    \"00FFFF\", \"Aqua\",\n",
    "    \"00FFFF\", \"Cyan\",\n",
    "    \"00CED1\", \"DarkTurquoise\",\n",
    "    \"00BFFF\", \"DeepSkyBlue\",\n",
    "    \"1E90FF\", \"DodgerBlue\",\n",
    "    \"4169E1\", \"RoyalBlue\",\n",
    "    \"000080\", \"Navy\",\n",
    "    \"00008B\", \"DarkBlue\",\n",
    "    \"0000CD\", \"MediumBlue\",\n",
    "    \"0000FF\", \"Blue\",\n",
    "    \"8A2BE2\", \"BlueViolet\",\n",
    "    \"9932CC\", \"DarkOrchid\",\n",
    "    \"9400D3\", \"DarkViolet\",\n",
    "    \"800080\", \"Purple\",\n",
    "    \"8B008B\", \"DarkMagenta\",\n",
    "    \"FF00FF\", \"Fuchsia\",\n",
    "    \"FF00FF\", \"Magenta\",\n",
    "    \"C71585\", \"MediumVioletRed\",\n",
    "    \"FF1493\", \"DeepPink\",\n",
    "    \"FF69B4\", \"HotPink\",\n",
    "    \"DC143C\", \"Crimson\",\n",
    "    \"A52A2A\", \"Brown\",\n",
    "    \"CD5C5C\", \"IndianRed\",\n",
    "    \"BC8F8F\", \"RosyBrown\",\n",
    "    \"F08080\", \"LightCoral\",\n",
    "    \"FFFAFA\", \"Snow\",\n",
    "    \"FFE4E1\", \"MistyRose\",\n",
    "    \"E9967A\", \"DarkSalmon\",\n",
    "    \"FFA07A\", \"LightSalmon\",\n",
    "    \"A0522D\", \"Sienna\",\n",
    "    \"FFF5EE\", \"SeaShell\",\n",
    "    \"8B4513\", \"SaddleBrown\",\n",
    "    \"FFDAB9\", \"Peachpuff\",\n",
    "    \"CD853F\", \"Peru\",\n",
    "    \"FAF0E6\", \"Linen\",\n",
    "    \"FFE4C4\", \"Bisque\",\n",
    "    \"DEB887\", \"Burlywood\",\n",
    "    \"D2B48C\", \"Tan\",\n",
    "    \"FAEBD7\", \"AntiqueWhite\",\n",
    "    \"FFDEAD\", \"NavajoWhite\",\n",
    "    \"FFEBCD\", \"BlanchedAlmond\",\n",
    "    \"FFEFD5\", \"PapayaWhip\",\n",
    "    \"FFE4B5\", \"Moccasin\",\n",
    "    \"F5DEB3\", \"Wheat\",\n",
    "    \"FDF5E6\", \"Oldlace\",\n",
    "    \"FFFAF0\", \"FloralWhite\",\n",
    "    \"FFF8DC\", \"Cornsilk\",\n",
    "    \"F0E68C\", \"Khaki\",\n",
    "    \"FFFACD\", \"LemonChiffon\",\n",
    "    \"EEE8AA\", \"PaleGoldenrod\",\n",
    "    \"BDB76B\", \"DarkKhaki\",\n",
    "    \"F5F5DC\", \"Beige\",\n",
    "    \"FAFAD2\", \"LightGoldenrodYellow\",\n",
    "    \"FFFFE0\", \"LightYellow\",\n",
    "    \"FFFFF0\", \"Ivory\",\n",
    "    \"6B8E23\", \"OliveDrab\",\n",
    "    \"556B2F\", \"DarkOliveGreen\",\n",
    "    \"8FBC8F\", \"DarkSeaGreen\",\n",
    "    \"006400\", \"DarkGreen\",\n",
    "    \"228B22\", \"ForestGreen\",\n",
    "    \"90EE90\", \"LightGreen\",\n",
    "    \"98FB98\", \"PaleGreen\",\n",
    "    \"F0FFF0\", \"Honeydew\",\n",
    "    \"2E8B57\", \"SeaGreen\",\n",
    "    \"3CB371\", \"MediumSeaGreen\",\n",
    "    \"F5FFFA\", \"Mintcream\",\n",
    "    \"66CDAA\", \"MediumAquamarine\",\n",
    "    \"7FFFD4\", \"Aquamarine\",\n",
    "    \"2F4F4F\", \"DarkSlateGray\",\n",
    "    \"AFEEEE\", \"PaleTurquoise\",\n",
    "    \"E0FFFF\", \"LightCyan\",\n",
    "    \"F0FFFF\", \"Azure\",\n",
    "    \"5F9EA0\", \"CadetBlue\",\n",
    "    \"B0E0E6\", \"PowderBlue\",\n",
    "    \"ADD8E6\", \"LightBlue\",\n",
    "    \"87CEEB\", \"SkyBlue\",\n",
    "    \"87CEFA\", \"LightskyBlue\",\n",
    "    \"4682B4\", \"SteelBlue\",\n",
    "    \"F0F8FF\", \"AliceBlue\",\n",
    "    \"708090\", \"SlateGray\",\n",
    "    \"778899\", \"LightSlateGray\",\n",
    "    \"B0C4DE\", \"LightsteelBlue\",\n",
    "    \"6495ED\", \"CornflowerBlue\",\n",
    "    \"E6E6FA\", \"Lavender\",\n",
    "    \"F8F8FF\", \"GhostWhite\",\n",
    "    \"191970\", \"MidnightBlue\",\n",
    "    \"6A5ACD\", \"SlateBlue\",\n",
    "    \"483D8B\", \"DarkSlateBlue\",\n",
    "    \"7B68EE\", \"MediumSlateBlue\",\n",
    "    \"9370DB\", \"MediumPurple\",\n",
    "    \"4B0082\", \"Indigo\",\n",
    "    \"BA55D3\", \"MediumOrchid\",\n",
    "    \"DDA0DD\", \"Plum\",\n",
    "    \"EE82EE\", \"Violet\",\n",
    "    \"D8BFD8\", \"Thistle\",\n",
    "    \"DA70D6\", \"Orchid\",\n",
    "    \"FFF0F5\", \"LavenderBlush\",\n",
    "    \"DB7093\", \"PaleVioletRed\",\n",
    "    \"FFC0CB\", \"Pink\",\n",
    "    \"FFB6C1\", \"LightPink\",\n",
    "    \"000000\", \"Black\",\n",
    "    \"696969\", \"DimGray\",\n",
    "    \"808080\", \"Gray\",\n",
    "    \"A9A9A9\", \"DarkGray\",\n",
    "    \"C0C0C0\", \"Silver\",\n",
    "    \"D3D3D3\", \"LightGrey\",\n",
    "    \"DCDCDC\", \"Gainsboro\",\n",
    "    \"F5F5F5\", \"WhiteSmoke\",\n",
    "    \"FFFFFF\", \"White\"\n",
    "    \"\"\""
   ]
  },
  {
   "cell_type": "code",
   "execution_count": 17,
   "metadata": {
    "ExecuteTime": {
     "end_time": "2018-07-20T21:12:02.766869Z",
     "start_time": "2018-07-20T21:12:02.762946Z"
    }
   },
   "outputs": [
    {
     "name": "stdout",
     "output_type": "stream",
     "text": [
      "error\n",
      " \n",
      "error\n",
      "     \n"
     ]
    }
   ],
   "source": [
    "import re\n",
    "colors_list=[]\n",
    "pat=re.compile(r'\".{6}\",\\s\"(\\w+)\"')\n",
    "for line in X.split('\\n'):\n",
    "    m=pat.search(line)\n",
    "    if m:\n",
    "        colors_list.append(m.group(1))\n",
    "    else:\n",
    "        print('error\\n',line)\n"
   ]
  },
  {
   "cell_type": "code",
   "execution_count": 18,
   "metadata": {
    "ExecuteTime": {
     "end_time": "2018-07-20T21:12:05.925651Z",
     "start_time": "2018-07-20T21:12:05.921531Z"
    }
   },
   "outputs": [
    {
     "data": {
      "text/plain": [
       "140"
      ]
     },
     "execution_count": 18,
     "metadata": {},
     "output_type": "execute_result"
    }
   ],
   "source": [
    "len(colors_list)"
   ]
  },
  {
   "cell_type": "code",
   "execution_count": 19,
   "metadata": {
    "ExecuteTime": {
     "end_time": "2018-07-20T21:12:11.811802Z",
     "start_time": "2018-07-20T21:12:11.809503Z"
    }
   },
   "outputs": [],
   "source": [
    "import numpy as np"
   ]
  },
  {
   "cell_type": "code",
   "execution_count": 20,
   "metadata": {
    "ExecuteTime": {
     "end_time": "2018-07-20T21:12:14.868304Z",
     "start_time": "2018-07-20T21:12:14.864964Z"
    }
   },
   "outputs": [],
   "source": [
    "permuted_colors=[]\n",
    "for i in np.random.permutation(len(colors_list)):\n",
    "    permuted_colors.append(colors_list[i])"
   ]
  },
  {
   "cell_type": "code",
   "execution_count": 21,
   "metadata": {
    "ExecuteTime": {
     "end_time": "2018-07-20T21:12:15.941010Z",
     "start_time": "2018-07-20T21:12:15.936995Z"
    }
   },
   "outputs": [
    {
     "data": {
      "text/plain": [
       "['Chocolate',\n",
       " 'Bisque',\n",
       " 'MediumSpringGreen',\n",
       " 'Plum',\n",
       " 'White',\n",
       " 'LightCyan',\n",
       " 'Azure',\n",
       " 'Khaki',\n",
       " 'HotPink',\n",
       " 'LightGoldenrodYellow']"
      ]
     },
     "execution_count": 21,
     "metadata": {},
     "output_type": "execute_result"
    }
   ],
   "source": [
    "permuted_colors[:10]"
   ]
  },
  {
   "cell_type": "code",
   "execution_count": 24,
   "metadata": {
    "ExecuteTime": {
     "end_time": "2018-07-20T21:19:08.194762Z",
     "start_time": "2018-07-20T21:19:08.187689Z"
    }
   },
   "outputs": [],
   "source": [
    "import pickle\n",
    "pickle.dump(permuted_colors,open('permuted_colors.pkl','wb'))"
   ]
  },
  {
   "cell_type": "code",
   "execution_count": null,
   "metadata": {},
   "outputs": [],
   "source": []
  }
 ],
 "metadata": {
  "hide_input": false,
  "kernelspec": {
   "display_name": "Python 3",
   "language": "python",
   "name": "python3"
  },
  "language_info": {
   "codemirror_mode": {
    "name": "ipython",
    "version": 3
   },
   "file_extension": ".py",
   "mimetype": "text/x-python",
   "name": "python",
   "nbconvert_exporter": "python",
   "pygments_lexer": "ipython3",
   "version": "3.6.4"
  },
  "toc": {
   "base_numbering": 1,
   "nav_menu": {},
   "number_sections": true,
   "sideBar": true,
   "skip_h1_title": false,
   "title_cell": "Table of Contents",
   "title_sidebar": "Contents",
   "toc_cell": false,
   "toc_position": {},
   "toc_section_display": true,
   "toc_window_display": false
  }
 },
 "nbformat": 4,
 "nbformat_minor": 2
}
