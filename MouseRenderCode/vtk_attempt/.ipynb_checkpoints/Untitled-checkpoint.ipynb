{
 "cells": [
  {
   "cell_type": "code",
   "execution_count": null,
   "metadata": {},
   "outputs": [],
   "source": [
    "import vtk\n",
    "from IPython.display import Image\n",
    "def vtk_show(renderer, width=400, height=300):\n",
    "    \"\"\"\n",
    "    Takes vtkRenderer instance and returns an IPython Image with the rendering.\n",
    "    \"\"\"\n",
    "    renderWindow = vtk.vtkRenderWindow()\n",
    "    renderWindow.SetOffScreenRendering(1)\n",
    "    renderWindow.AddRenderer(renderer)\n",
    "    renderWindow.SetSize(width, height)\n",
    "    renderWindow.Render()\n",
    "     \n",
    "    windowToImageFilter = vtk.vtkWindowToImageFilter()\n",
    "    windowToImageFilter.SetInput(renderWindow)\n",
    "    windowToImageFilter.Update()\n",
    "     \n",
    "    writer = vtk.vtkPNGWriter()\n",
    "    writer.SetWriteToMemory(1)\n",
    "    writer.SetInputConnection(windowToImageFilter.GetOutputPort())\n",
    "    writer.Write()\n",
    "    data = str(buffer(writer.GetResult()))\n",
    "    \n",
    "    return Image(data)\n"
   ]
  },
  {
   "cell_type": "code",
   "execution_count": null,
   "metadata": {},
   "outputs": [],
   "source": []
  },
  {
   "cell_type": "code",
   "execution_count": null,
   "metadata": {
    "ExecuteTime": {
     "start_time": "2018-07-19T03:56:37.713Z"
    }
   },
   "outputs": [],
   "source": [
    "# %load UGrid.py\n",
    "#!/usr/bin/env python\n",
    "\n",
    "\"\"\"\n",
    "This example shows how to create an unstructured grid.\n",
    "\"\"\"\n",
    "\n",
    "import vtk"
   ]
  },
  {
   "cell_type": "code",
   "execution_count": null,
   "metadata": {
    "ExecuteTime": {
     "start_time": "2018-07-19T03:56:16.475Z"
    }
   },
   "outputs": [],
   "source": [
    "#def main():\n",
    "colors = vtk.vtkNamedColors()"
   ]
  },
  {
   "cell_type": "code",
   "execution_count": null,
   "metadata": {
    "ExecuteTime": {
     "end_time": "2018-07-19T03:55:35.521562Z",
     "start_time": "2018-07-19T03:55:35.518293Z"
    }
   },
   "outputs": [],
   "source": [
    "x = [[0, 0, 0], [1, 0, 0], [2, 0, 0], [0, 1, 0], [1, 1, 0], [2, 1, 0], [0, 0, 1], [1, 0, 1], [2, 0, 1], [0, 1, 1],\n",
    "     [1, 1, 1], [2, 1, 1], [0, 1, 2], [1, 1, 2], [2, 1, 2], [0, 1, 3], [1, 1, 3], [2, 1, 3], [0, 1, 4], [1, 1, 4],\n",
    "     [2, 1, 4], [0, 1, 5], [1, 1, 5], [2, 1, 5], [0, 1, 6], [1, 1, 6], [2, 1, 6]]\n",
    "pts = [[0, 1, 4, 3, 6, 7, 10, 9], [1, 2, 5, 4, 7, 8, 11, 10], [6, 10, 9, 12, 0, 0, 0, 0],\n",
    "       [8, 11, 10, 14, 0, 0, 0, 0], [16, 17, 14, 13, 12, 15, 0, 0], [18, 15, 19, 16, 20, 17, 0, 0],\n",
    "       [22, 23, 20, 19, 0, 0, 0, 0], [21, 22, 18, 0, 0, 0, 0, 0], [22, 19, 18, 0, 0, 0, 0, 0],\n",
    "       [23, 26, 0, 0, 0, 0, 0, 0], [21, 24, 0, 0, 0, 0, 0, 0], [25, 0, 0, 0, 0, 0, 0, 0]]\n",
    "print(len(x), len(pts))\n",
    "\n",
    "renderer = vtk.vtkRenderer()\n",
    "\n",
    "renWin = vtk.vtkRenderWindow()\n",
    "renWin.AddRenderer(renderer)\n",
    "iren = vtk.vtkRenderWindowInteractor()\n",
    "iren.SetRenderWindow(renWin)\n",
    "\n",
    "points = vtk.vtkPoints()\n",
    "for i in range(0, len(x)):\n",
    "    points.InsertPoint(i, x[i])\n",
    "\n",
    "ugrid = vtk.vtkUnstructuredGrid()\n",
    "ugrid.Allocate(100)\n",
    "ugrid.InsertNextCell(vtk.VTK_HEXAHEDRON, 8, pts[0])\n",
    "ugrid.InsertNextCell(vtk.VTK_HEXAHEDRON, 8, pts[1])\n",
    "ugrid.InsertNextCell(vtk.VTK_TETRA, 4, pts[2])\n",
    "ugrid.InsertNextCell(vtk.VTK_TETRA, 4, pts[3])\n",
    "ugrid.InsertNextCell(vtk.VTK_POLYGON, 6, pts[4])\n",
    "ugrid.InsertNextCell(vtk.VTK_TRIANGLE_STRIP, 6, pts[5])\n",
    "ugrid.InsertNextCell(vtk.VTK_QUAD, 4, pts[6])\n",
    "ugrid.InsertNextCell(vtk.VTK_TRIANGLE, 3, pts[7])\n",
    "ugrid.InsertNextCell(vtk.VTK_TRIANGLE, 3, pts[8])\n",
    "ugrid.InsertNextCell(vtk.VTK_LINE, 2, pts[9])\n",
    "ugrid.InsertNextCell(vtk.VTK_LINE, 2, pts[10])\n",
    "ugrid.InsertNextCell(vtk.VTK_VERTEX, 1, pts[11])\n",
    "\n",
    "ugrid.SetPoints(points)\n",
    "\n",
    "ugridMapper = vtk.vtkDataSetMapper()\n",
    "ugridMapper.SetInputData(ugrid)\n",
    "\n",
    "ugridActor = vtk.vtkActor()\n",
    "ugridActor.SetMapper(ugridMapper)\n",
    "ugridActor.GetProperty().SetColor(colors.GetColor3d(\"Peacock\"))\n",
    "ugridActor.GetProperty().EdgeVisibilityOn()\n",
    "\n",
    "renderer.AddActor(ugridActor)\n",
    "renderer.SetBackground(colors.GetColor3d(\"Beige\"))\n",
    "\n",
    "renderer.ResetCamera()\n",
    "renderer.GetActiveCamera().Elevation(60.0)\n",
    "renderer.GetActiveCamera().Azimuth(30.0)\n",
    "renderer.GetActiveCamera().Dolly(1.2)\n",
    "\n",
    "renWin.SetSize(640, 480)\n",
    "\n",
    "# Interact with the data.\n",
    "renWin.Render()\n",
    "\n",
    "iren.Start()\n",
    "\n",
    "\n",
    "if __name__ == \"__main__\":\n",
    "    main()"
   ]
  },
  {
   "cell_type": "code",
   "execution_count": null,
   "metadata": {},
   "outputs": [],
   "source": []
  }
 ],
 "metadata": {
  "hide_input": false,
  "kernelspec": {
   "display_name": "Python 3",
   "language": "python",
   "name": "python3"
  },
  "language_info": {
   "codemirror_mode": {
    "name": "ipython",
    "version": 3
   },
   "file_extension": ".py",
   "mimetype": "text/x-python",
   "name": "python",
   "nbconvert_exporter": "python",
   "pygments_lexer": "ipython3",
   "version": "3.6.4"
  },
  "toc": {
   "base_numbering": 1,
   "nav_menu": {},
   "number_sections": true,
   "sideBar": true,
   "skip_h1_title": false,
   "title_cell": "Table of Contents",
   "title_sidebar": "Contents",
   "toc_cell": false,
   "toc_position": {},
   "toc_section_display": true,
   "toc_window_display": false
  }
 },
 "nbformat": 4,
 "nbformat_minor": 2
}
