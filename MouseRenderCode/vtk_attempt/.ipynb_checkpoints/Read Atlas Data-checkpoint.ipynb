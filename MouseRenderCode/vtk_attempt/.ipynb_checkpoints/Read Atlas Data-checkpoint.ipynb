{
 "cells": [
  {
   "cell_type": "code",
   "execution_count": 7,
   "metadata": {
    "ExecuteTime": {
     "end_time": "2018-07-20T04:59:28.967647Z",
     "start_time": "2018-07-20T04:59:28.702135Z"
    }
   },
   "outputs": [
    {
     "name": "stdout",
     "output_type": "stream",
     "text": [
      "Populating the interactive namespace from numpy and matplotlib\n"
     ]
    }
   ],
   "source": [
    "%pylab inline"
   ]
  },
  {
   "cell_type": "code",
   "execution_count": 8,
   "metadata": {
    "ExecuteTime": {
     "end_time": "2018-07-20T04:59:30.984315Z",
     "start_time": "2018-07-20T04:59:30.840130Z"
    }
   },
   "outputs": [
    {
     "name": "stdout",
     "output_type": "stream",
     "text": [
      "total 3073344\r\n",
      "-rw-r--r--  1 yoavfreund  staff   1.5G Jul  4 16:02 compressed_atlas.npy\r\n",
      "-rw-r--r--  1 yoavfreund  staff   3.9K Jul  4 16:20 meta_information.pkl\r\n"
     ]
    }
   ],
   "source": [
    "!ls -lh v_atlas/"
   ]
  },
  {
   "cell_type": "code",
   "execution_count": 9,
   "metadata": {
    "ExecuteTime": {
     "end_time": "2018-07-20T04:59:34.913537Z",
     "start_time": "2018-07-20T04:59:33.152120Z"
    }
   },
   "outputs": [],
   "source": [
    "tbl=np.load('v_atlas/compressed_atlas.npy')"
   ]
  },
  {
   "cell_type": "code",
   "execution_count": 10,
   "metadata": {
    "ExecuteTime": {
     "end_time": "2018-07-20T04:59:35.205329Z",
     "start_time": "2018-07-20T04:59:35.198537Z"
    }
   },
   "outputs": [
    {
     "data": {
      "text/plain": [
       "(625, 571, 551)"
      ]
     },
     "execution_count": 10,
     "metadata": {},
     "output_type": "execute_result"
    }
   ],
   "source": [
    "tbl.shape"
   ]
  },
  {
   "cell_type": "code",
   "execution_count": 11,
   "metadata": {
    "ExecuteTime": {
     "end_time": "2018-07-20T05:00:13.048185Z",
     "start_time": "2018-07-20T04:59:45.192813Z"
    }
   },
   "outputs": [],
   "source": [
    "from collections import Counter\n",
    "c=Counter(tbl.flatten())"
   ]
  },
  {
   "cell_type": "code",
   "execution_count": 12,
   "metadata": {
    "ExecuteTime": {
     "end_time": "2018-07-20T05:00:13.056937Z",
     "start_time": "2018-07-20T05:00:13.050302Z"
    },
    "collapsed": true
   },
   "outputs": [
    {
     "data": {
      "text/plain": [
       "Counter({0: 184352361,\n",
       "         1: 434562,\n",
       "         2: 434562,\n",
       "         3: 23207,\n",
       "         4: 23207,\n",
       "         5: 3790071,\n",
       "         6: 52219,\n",
       "         7: 52219,\n",
       "         8: 184782,\n",
       "         9: 194706,\n",
       "         10: 1,\n",
       "         11: 1,\n",
       "         12: 13720,\n",
       "         13: 13720,\n",
       "         14: 285976,\n",
       "         15: 67858,\n",
       "         16: 57934,\n",
       "         17: 2653574,\n",
       "         18: 95954,\n",
       "         19: 95954,\n",
       "         20: 36428,\n",
       "         21: 36428,\n",
       "         22: 7006,\n",
       "         23: 7006,\n",
       "         24: 935,\n",
       "         25: 935,\n",
       "         26: 65737,\n",
       "         27: 77693,\n",
       "         28: 151768,\n",
       "         29: 151768,\n",
       "         30: 153587,\n",
       "         31: 165543,\n",
       "         32: 11956,\n",
       "         33: 22794,\n",
       "         34: 22794,\n",
       "         35: 399211,\n",
       "         36: 399211,\n",
       "         37: 2468,\n",
       "         38: 2468,\n",
       "         39: 100732,\n",
       "         40: 100732,\n",
       "         41: 8820,\n",
       "         42: 8820,\n",
       "         43: 13439,\n",
       "         44: 13439,\n",
       "         45: 51770,\n",
       "         46: 51770,\n",
       "         47: 3341,\n",
       "         48: 3341,\n",
       "         49: 255477,\n",
       "         50: 255477,\n",
       "         51: 98937,\n",
       "         52: 98937,\n",
       "         53: 116232,\n",
       "         54: 3799,\n",
       "         55: 4855,\n",
       "         56: 8638,\n",
       "         57: 7582,\n",
       "         58: 16713,\n",
       "         59: 32239,\n",
       "         60: 404236,\n",
       "         61: 404236,\n",
       "         62: 32239})"
      ]
     },
     "execution_count": 12,
     "metadata": {},
     "output_type": "execute_result"
    }
   ],
   "source": [
    "c"
   ]
  },
  {
   "cell_type": "code",
   "execution_count": 13,
   "metadata": {
    "ExecuteTime": {
     "end_time": "2018-07-20T05:00:29.313714Z",
     "start_time": "2018-07-20T05:00:27.954806Z"
    }
   },
   "outputs": [],
   "source": [
    "blob=1.*(tbl==5)"
   ]
  },
  {
   "cell_type": "code",
   "execution_count": 14,
   "metadata": {
    "ExecuteTime": {
     "end_time": "2018-07-20T05:00:30.260066Z",
     "start_time": "2018-07-20T05:00:30.256849Z"
    }
   },
   "outputs": [
    {
     "data": {
      "text/plain": [
       "(625, 571, 551)"
      ]
     },
     "execution_count": 14,
     "metadata": {},
     "output_type": "execute_result"
    }
   ],
   "source": [
    "blob.shape"
   ]
  },
  {
   "cell_type": "code",
   "execution_count": 15,
   "metadata": {
    "ExecuteTime": {
     "end_time": "2018-07-20T05:00:32.606269Z",
     "start_time": "2018-07-20T05:00:32.143812Z"
    },
    "scrolled": false
   },
   "outputs": [
    {
     "data": {
      "text/plain": [
       "<matplotlib.image.AxesImage at 0x10df7e390>"
      ]
     },
     "execution_count": 15,
     "metadata": {},
     "output_type": "execute_result"
    },
    {
     "data": {
      "image/png": "[encoded data removed]",
      "text/plain": [
       "<Figure size 432x288 with 1 Axes>"
      ]
     },
     "metadata": {},
     "output_type": "display_data"
    }
   ],
   "source": [
    "imshow(blob[:200,210,:])"
   ]
  },
  {
   "cell_type": "code",
   "execution_count": null,
   "metadata": {
    "ExecuteTime": {
     "end_time": "2018-07-20T05:03:23.846155Z",
     "start_time": "2018-07-20T05:03:19.940542Z"
    }
   },
   "outputs": [],
   "source": [
    "from skimage.measure import marching_cubes_lewiner,marching_cubes"
   ]
  },
  {
   "cell_type": "code",
   "execution_count": 27,
   "metadata": {
    "ExecuteTime": {
     "end_time": "2018-07-20T05:13:01.142221Z",
     "start_time": "2018-07-20T05:12:57.076520Z"
    }
   },
   "outputs": [
    {
     "data": {
      "text/plain": [
       "((230444, 3), (460884, 3))"
      ]
     },
     "execution_count": 27,
     "metadata": {},
     "output_type": "execute_result"
    }
   ],
   "source": [
    "X=marching_cubes_lewiner(blob)\n",
    "X[0].shape,X[1].shape"
   ]
  },
  {
   "cell_type": "code",
   "execution_count": 32,
   "metadata": {
    "ExecuteTime": {
     "end_time": "2018-07-20T05:16:23.453500Z",
     "start_time": "2018-07-20T05:16:22.650994Z"
    }
   },
   "outputs": [
    {
     "data": {
      "text/plain": [
       "((2288, 3), (4572, 3))"
      ]
     },
     "execution_count": 32,
     "metadata": {},
     "output_type": "execute_result"
    }
   ],
   "source": [
    "X=marching_cubes_lewiner(blob,step_size=10)\n",
    "X[0].shape,X[1].shape"
   ]
  },
  {
   "cell_type": "code",
   "execution_count": 26,
   "metadata": {
    "ExecuteTime": {
     "end_time": "2018-07-20T05:08:24.752260Z",
     "start_time": "2018-07-20T05:08:24.747608Z"
    }
   },
   "outputs": [
    {
     "data": {
      "text/plain": [
       "array([[ 31.5, 143. , 248. ],\n",
       "       [ 32. , 143. , 247.5],\n",
       "       [ 32. , 142.5, 248. ],\n",
       "       [ 32. , 142.5, 249. ],\n",
       "       [ 31.5, 143. , 249. ],\n",
       "       [ 32. , 142.5, 250. ]], dtype=float32)"
      ]
     },
     "execution_count": 26,
     "metadata": {},
     "output_type": "execute_result"
    }
   ],
   "source": [
    "X[0][:6,:]"
   ]
  },
  {
   "cell_type": "code",
   "execution_count": 25,
   "metadata": {
    "ExecuteTime": {
     "end_time": "2018-07-20T05:07:15.585498Z",
     "start_time": "2018-07-20T05:07:15.582055Z"
    }
   },
   "outputs": [
    {
     "data": {
      "text/plain": [
       "array([[2, 1, 0],\n",
       "       [4, 3, 0],\n",
       "       [0, 3, 2],\n",
       "       [6, 5, 4],\n",
       "       [4, 5, 3],\n",
       "       [8, 7, 6]], dtype=int32)"
      ]
     },
     "execution_count": 25,
     "metadata": {},
     "output_type": "execute_result"
    }
   ],
   "source": [
    "X[1][:6,:]"
   ]
  },
  {
   "cell_type": "markdown",
   "metadata": {},
   "source": [
    "### Finding the boundary\n",
    "Dead end"
   ]
  },
  {
   "cell_type": "code",
   "execution_count": 27,
   "metadata": {
    "ExecuteTime": {
     "end_time": "2018-07-19T23:40:27.390669Z",
     "start_time": "2018-07-19T23:40:27.023512Z"
    }
   },
   "outputs": [],
   "source": [
    "from scipy.signal import convolve"
   ]
  },
  {
   "cell_type": "code",
   "execution_count": 29,
   "metadata": {
    "ExecuteTime": {
     "end_time": "2018-07-19T23:44:09.314912Z",
     "start_time": "2018-07-19T23:42:52.460863Z"
    }
   },
   "outputs": [],
   "source": [
    "conv=convolve(blob,np.ones([2,2,2])/8,mode='same')"
   ]
  },
  {
   "cell_type": "code",
   "execution_count": 36,
   "metadata": {
    "ExecuteTime": {
     "end_time": "2018-07-19T23:48:43.079869Z",
     "start_time": "2018-07-19T23:48:41.971815Z"
    }
   },
   "outputs": [
    {
     "data": {
      "text/plain": [
       "<matplotlib.image.AxesImage at 0x1809737f0>"
      ]
     },
     "execution_count": 36,
     "metadata": {},
     "output_type": "execute_result"
    },
    {
     "data": {
      "image/png": "[encoded data removed]",
      "text/plain": [
       "<Figure size 432x288 with 1 Axes>"
      ]
     },
     "metadata": {},
     "output_type": "display_data"
    }
   ],
   "source": [
    "diff=blob-conv\n",
    "imshow(abs(diff[:200,210,:]))"
   ]
  },
  {
   "cell_type": "code",
   "execution_count": 38,
   "metadata": {
    "ExecuteTime": {
     "end_time": "2018-07-19T23:49:45.892287Z",
     "start_time": "2018-07-19T23:49:45.786635Z"
    }
   },
   "outputs": [
    {
     "data": {
      "text/plain": [
       "[<matplotlib.lines.Line2D at 0x180bbbf98>]"
      ]
     },
     "execution_count": 38,
     "metadata": {},
     "output_type": "execute_result"
    },
    {
     "data": {
      "image/png": "[encoded data removed]",
      "text/plain": [
       "<Figure size 432x288 with 1 Axes>"
      ]
     },
     "metadata": {},
     "output_type": "display_data"
    }
   ],
   "source": [
    "plot(diff[100,210,350:400])"
   ]
  },
  {
   "cell_type": "code",
   "execution_count": 34,
   "metadata": {
    "ExecuteTime": {
     "end_time": "2018-07-19T23:47:40.081498Z",
     "start_time": "2018-07-19T23:47:40.076690Z"
    }
   },
   "outputs": [
    {
     "data": {
      "text/plain": [
       "array([-1.92438658e-15, -2.50000000e-01,  2.50000000e-01, -2.88657986e-15])"
      ]
     },
     "execution_count": 34,
     "metadata": {},
     "output_type": "execute_result"
    }
   ],
   "source": [
    "diff[100,210,179:183]"
   ]
  },
  {
   "cell_type": "markdown",
   "metadata": {},
   "source": [
    "### making cycles from the connected edges.\n",
    "\n",
    "If exists, we start from the previous cycle to create a triangle strip.\n",
    "\n",
    "If there aren't any, or if some edge is not covered, we create a new cycle."
   ]
  },
  {
   "cell_type": "code",
   "execution_count": 54,
   "metadata": {
    "ExecuteTime": {
     "end_time": "2018-07-20T00:12:21.352048Z",
     "start_time": "2018-07-20T00:12:20.686155Z"
    }
   },
   "outputs": [],
   "source": [
    "diff[diff<0.1]=0"
   ]
  },
  {
   "cell_type": "code",
   "execution_count": 55,
   "metadata": {
    "ExecuteTime": {
     "end_time": "2018-07-20T00:12:37.730317Z",
     "start_time": "2018-07-20T00:12:36.124562Z"
    }
   },
   "outputs": [
    {
     "data": {
      "text/plain": [
       "3"
      ]
     },
     "execution_count": 55,
     "metadata": {},
     "output_type": "execute_result"
    }
   ],
   "source": [
    "X=np.nonzero(diff)\n",
    "len(X)"
   ]
  },
  {
   "cell_type": "code",
   "execution_count": 56,
   "metadata": {
    "ExecuteTime": {
     "end_time": "2018-07-20T00:12:40.181189Z",
     "start_time": "2018-07-20T00:12:40.177422Z"
    }
   },
   "outputs": [],
   "source": [
    "XX=np.array(X)"
   ]
  },
  {
   "cell_type": "code",
   "execution_count": 57,
   "metadata": {
    "ExecuteTime": {
     "end_time": "2018-07-20T00:12:41.528552Z",
     "start_time": "2018-07-20T00:12:41.524927Z"
    }
   },
   "outputs": [
    {
     "data": {
      "text/plain": [
       "(3, 114479)"
      ]
     },
     "execution_count": 57,
     "metadata": {},
     "output_type": "execute_result"
    }
   ],
   "source": [
    "XX.shape"
   ]
  },
  {
   "cell_type": "code",
   "execution_count": 58,
   "metadata": {
    "ExecuteTime": {
     "end_time": "2018-07-20T00:12:52.222216Z",
     "start_time": "2018-07-20T00:12:52.218129Z"
    }
   },
   "outputs": [
    {
     "data": {
      "text/plain": [
       "array([[ 32,  32,  32,  32],\n",
       "       [143, 143, 143, 143],\n",
       "       [248, 249, 250, 251]])"
      ]
     },
     "execution_count": 58,
     "metadata": {},
     "output_type": "execute_result"
    }
   ],
   "source": [
    "XX[:,:4]"
   ]
  },
  {
   "cell_type": "code",
   "execution_count": 49,
   "metadata": {
    "ExecuteTime": {
     "end_time": "2018-07-20T00:06:26.501006Z",
     "start_time": "2018-07-20T00:06:26.497520Z"
    }
   },
   "outputs": [
    {
     "data": {
      "text/plain": [
       "array([ 32, 143, 248])"
      ]
     },
     "execution_count": 49,
     "metadata": {},
     "output_type": "execute_result"
    }
   ],
   "source": [
    "start=XX[:,0]\n",
    "start"
   ]
  },
  {
   "cell_type": "code",
   "execution_count": 53,
   "metadata": {
    "ExecuteTime": {
     "end_time": "2018-07-20T00:09:15.694912Z",
     "start_time": "2018-07-20T00:09:15.689390Z"
    }
   },
   "outputs": [
    {
     "data": {
      "text/plain": [
       "0.8749999999999991"
      ]
     },
     "execution_count": 53,
     "metadata": {},
     "output_type": "execute_result"
    }
   ],
   "source": [
    "def _diff(x):\n",
    "    return diff[x[0],x[1],x[2]]\n",
    "_diff(start)"
   ]
  },
  {
   "cell_type": "code",
   "execution_count": 61,
   "metadata": {
    "ExecuteTime": {
     "end_time": "2018-07-20T00:22:06.546666Z",
     "start_time": "2018-07-20T00:22:06.541082Z"
    }
   },
   "outputs": [
    {
     "data": {
      "text/plain": [
       "array([[0.   , 0.   , 0.   , 0.   ],\n",
       "       [0.   , 0.875, 0.625, 0.5  ],\n",
       "       [0.5  , 0.375, 0.125, 0.   ],\n",
       "       [0.   , 0.   , 0.   , 0.   ]])"
      ]
     },
     "execution_count": 61,
     "metadata": {},
     "output_type": "execute_result"
    }
   ],
   "source": [
    "def vals_around(d,x,fix=2):\n",
    "    \"\"\"Scan a 3x3 range around x, fixing one coordinate\"\"\"\n",
    "    if(fix==2):\n",
    "        return d[x[0]-1:x[0]+3,x[1]-1:x[1]+3,x[2]]\n",
    "vals_around(diff,start)\n",
    "    "
   ]
  },
  {
   "cell_type": "code",
   "execution_count": 1,
   "metadata": {
    "ExecuteTime": {
     "end_time": "2018-07-20T00:41:02.619555Z",
     "start_time": "2018-07-20T00:41:02.491715Z"
    }
   },
   "outputs": [
    {
     "ename": "ImportError",
     "evalue": "dlopen(/usr/local/lib/python2.7/site-packages/cv2.so, 2): Symbol not found: _PyCObject_Type\n  Referenced from: /usr/local/lib/python2.7/site-packages/cv2.so\n  Expected in: flat namespace\n in /usr/local/lib/python2.7/site-packages/cv2.so",
     "output_type": "error",
     "traceback": [
      "\u001b[0;31m---------------------------------------------------------------------------\u001b[0m",
      "\u001b[0;31mImportError\u001b[0m                               Traceback (most recent call last)",
      "\u001b[0;32m<ipython-input-1-c8ec22b3e787>\u001b[0m in \u001b[0;36m<module>\u001b[0;34m()\u001b[0m\n\u001b[0;32m----> 1\u001b[0;31m \u001b[0;32mimport\u001b[0m \u001b[0mcv2\u001b[0m\u001b[0;34m\u001b[0m\u001b[0m\n\u001b[0m",
      "\u001b[0;31mImportError\u001b[0m: dlopen(/usr/local/lib/python2.7/site-packages/cv2.so, 2): Symbol not found: _PyCObject_Type\n  Referenced from: /usr/local/lib/python2.7/site-packages/cv2.so\n  Expected in: flat namespace\n in /usr/local/lib/python2.7/site-packages/cv2.so"
     ]
    }
   ],
   "source": [
    "dir=np.array()"
   ]
  },
  {
   "cell_type": "code",
   "execution_count": null,
   "metadata": {},
   "outputs": [],
   "source": []
  }
 ],
 "metadata": {
  "hide_input": false,
  "kernelspec": {
   "display_name": "Python 3",
   "language": "python",
   "name": "python3"
  },
  "language_info": {
   "codemirror_mode": {
    "name": "ipython",
    "version": 3
   },
   "file_extension": ".py",
   "mimetype": "text/x-python",
   "name": "python",
   "nbconvert_exporter": "python",
   "pygments_lexer": "ipython3",
   "version": "3.6.4"
  },
  "toc": {
   "base_numbering": 1,
   "nav_menu": {},
   "number_sections": true,
   "sideBar": true,
   "skip_h1_title": false,
   "title_cell": "Table of Contents",
   "title_sidebar": "Contents",
   "toc_cell": false,
   "toc_position": {},
   "toc_section_display": true,
   "toc_window_display": false
  }
 },
 "nbformat": 4,
 "nbformat_minor": 2
}
