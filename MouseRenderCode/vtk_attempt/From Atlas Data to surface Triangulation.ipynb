{
 "cells": [
  {
   "cell_type": "markdown",
   "metadata": {},
   "source": [
    "## Reading Data"
   ]
  },
  {
   "cell_type": "code",
   "execution_count": 1,
   "metadata": {
    "ExecuteTime": {
     "end_time": "2018-07-21T22:20:39.445274Z",
     "start_time": "2018-07-21T22:20:39.075832Z"
    }
   },
   "outputs": [
    {
     "name": "stdout",
     "output_type": "stream",
     "text": [
      "Populating the interactive namespace from numpy and matplotlib\n"
     ]
    }
   ],
   "source": [
    "%pylab inline"
   ]
  },
  {
   "cell_type": "code",
   "execution_count": 2,
   "metadata": {
    "ExecuteTime": {
     "end_time": "2018-07-21T22:20:41.044712Z",
     "start_time": "2018-07-21T22:20:40.907493Z"
    }
   },
   "outputs": [
    {
     "name": "stdout",
     "output_type": "stream",
     "text": [
      "total 3073344\r\n",
      "-rw-r--r--  1 yoavfreund  staff   1.5G Jul  4 16:02 compressed_atlas.npy\r\n",
      "-rw-r--r--  1 yoavfreund  staff   3.9K Jul  4 16:20 meta_information.pkl\r\n"
     ]
    }
   ],
   "source": [
    "!ls -lh v_atlas/"
   ]
  },
  {
   "cell_type": "code",
   "execution_count": 3,
   "metadata": {
    "ExecuteTime": {
     "end_time": "2018-07-21T22:20:46.701740Z",
     "start_time": "2018-07-21T22:20:45.286544Z"
    }
   },
   "outputs": [],
   "source": [
    "tbl=np.load('v_atlas/compressed_atlas.npy')"
   ]
  },
  {
   "cell_type": "code",
   "execution_count": 4,
   "metadata": {
    "ExecuteTime": {
     "end_time": "2018-07-21T22:20:48.076369Z",
     "start_time": "2018-07-21T22:20:48.069780Z"
    }
   },
   "outputs": [
    {
     "data": {
      "text/plain": [
       "(625, 571, 551)"
      ]
     },
     "execution_count": 4,
     "metadata": {},
     "output_type": "execute_result"
    }
   ],
   "source": [
    "tbl.shape"
   ]
  },
  {
   "cell_type": "code",
   "execution_count": 5,
   "metadata": {
    "ExecuteTime": {
     "end_time": "2018-07-21T22:21:24.153040Z",
     "start_time": "2018-07-21T22:20:52.143464Z"
    }
   },
   "outputs": [],
   "source": [
    "from collections import Counter\n",
    "c=Counter(tbl.flatten())"
   ]
  },
  {
   "cell_type": "code",
   "execution_count": 6,
   "metadata": {
    "ExecuteTime": {
     "end_time": "2018-07-21T22:21:38.412803Z",
     "start_time": "2018-07-21T22:21:38.406747Z"
    }
   },
   "outputs": [
    {
     "data": {
      "text/plain": [
       "Counter({0: 184352361,\n",
       "         1: 434562,\n",
       "         2: 434562,\n",
       "         3: 23207,\n",
       "         4: 23207,\n",
       "         5: 3790071,\n",
       "         6: 52219,\n",
       "         7: 52219,\n",
       "         8: 184782,\n",
       "         9: 194706,\n",
       "         10: 1,\n",
       "         11: 1,\n",
       "         12: 13720,\n",
       "         13: 13720,\n",
       "         14: 285976,\n",
       "         15: 67858,\n",
       "         16: 57934,\n",
       "         17: 2653574,\n",
       "         18: 95954,\n",
       "         19: 95954,\n",
       "         20: 36428,\n",
       "         21: 36428,\n",
       "         22: 7006,\n",
       "         23: 7006,\n",
       "         24: 935,\n",
       "         25: 935,\n",
       "         26: 65737,\n",
       "         27: 77693,\n",
       "         28: 151768,\n",
       "         29: 151768,\n",
       "         30: 153587,\n",
       "         31: 165543,\n",
       "         32: 11956,\n",
       "         33: 22794,\n",
       "         34: 22794,\n",
       "         35: 399211,\n",
       "         36: 399211,\n",
       "         37: 2468,\n",
       "         38: 2468,\n",
       "         39: 100732,\n",
       "         40: 100732,\n",
       "         41: 8820,\n",
       "         42: 8820,\n",
       "         43: 13439,\n",
       "         44: 13439,\n",
       "         45: 51770,\n",
       "         46: 51770,\n",
       "         47: 3341,\n",
       "         48: 3341,\n",
       "         49: 255477,\n",
       "         50: 255477,\n",
       "         51: 98937,\n",
       "         52: 98937,\n",
       "         53: 116232,\n",
       "         54: 3799,\n",
       "         55: 4855,\n",
       "         56: 8638,\n",
       "         57: 7582,\n",
       "         58: 16713,\n",
       "         59: 32239,\n",
       "         60: 404236,\n",
       "         61: 404236,\n",
       "         62: 32239})"
      ]
     },
     "execution_count": 6,
     "metadata": {},
     "output_type": "execute_result"
    }
   ],
   "source": [
    "c"
   ]
  },
  {
   "cell_type": "code",
   "execution_count": 17,
   "metadata": {
    "ExecuteTime": {
     "end_time": "2018-07-22T21:15:30.641986Z",
     "start_time": "2018-07-22T21:15:30.634871Z"
    },
    "scrolled": true
   },
   "outputs": [
    {
     "name": "stdout",
     "output_type": "stream",
     "text": [
      "This file contains the meta-information pertaining to the \n",
      "    compressed atlas.\n",
      "    'sorted_keys':a list of pairs that relate structure names to integer indices\n",
      "    In the compressed atlas each occuring combination of structures (the result of overlap) \n",
      "    is mapped into a single index. the following defines these mappings\n",
      "    'Single2Multi':  maps a single index to a combination of indices (including empty)\n",
      "    'Multi2Single': the reverse of single2Multi\n",
      "    \n"
     ]
    },
    {
     "data": {
      "text/plain": [
       "49"
      ]
     },
     "execution_count": 17,
     "metadata": {},
     "output_type": "execute_result"
    }
   ],
   "source": [
    "import pickle\n",
    "meta=pickle.load(open('v_atlas/meta_information.pkl','rb'))\n",
    "print(meta['description'])\n",
    "indices=meta['sorted_keys']\n",
    "no_of_structures=len(meta['sorted_keys'])\n",
    "no_of_combinations=len(meta['Multi2Single'])\n",
    "#meta['Multi2Single']\n",
    "no_of_structures"
   ]
  },
  {
   "cell_type": "code",
   "execution_count": null,
   "metadata": {
    "ExecuteTime": {
     "start_time": "2018-07-22T20:19:17.057Z"
    },
    "scrolled": true
   },
   "outputs": [],
   "source": [
    "len(meta['sorted_keys']),meta['sorted_keys']"
   ]
  },
  {
   "cell_type": "code",
   "execution_count": 13,
   "metadata": {
    "ExecuteTime": {
     "end_time": "2018-07-22T20:27:03.912049Z",
     "start_time": "2018-07-22T20:27:03.906562Z"
    }
   },
   "outputs": [
    {
     "data": {
      "text/plain": [
       "['Chocolate',\n",
       " 'Bisque',\n",
       " 'MediumSpringGreen',\n",
       " 'Plum',\n",
       " 'White',\n",
       " 'LightCyan',\n",
       " 'Azure',\n",
       " 'Khaki',\n",
       " 'HotPink',\n",
       " 'LightGoldenrodYellow',\n",
       " 'MediumOrchid',\n",
       " 'Red',\n",
       " 'DarkOrchid',\n",
       " 'DeepSkyBlue',\n",
       " 'FloralWhite',\n",
       " 'Oldlace',\n",
       " 'IndianRed',\n",
       " 'Ivory',\n",
       " 'DarkBlue',\n",
       " 'MediumAquamarine',\n",
       " 'Pink',\n",
       " 'RosyBrown',\n",
       " 'DarkViolet',\n",
       " 'Honeydew',\n",
       " 'Lime',\n",
       " 'MidnightBlue',\n",
       " 'Turquoise',\n",
       " 'Green',\n",
       " 'BlueViolet',\n",
       " 'MediumVioletRed',\n",
       " 'OliveDrab',\n",
       " 'Chartreuse',\n",
       " 'Fuchsia',\n",
       " 'MediumTurquoise',\n",
       " 'CadetBlue',\n",
       " 'DarkCyan',\n",
       " 'Orange',\n",
       " 'LightsteelBlue',\n",
       " 'Gold',\n",
       " 'LemonChiffon',\n",
       " 'DeepPink',\n",
       " 'Burlywood',\n",
       " 'Peru',\n",
       " 'LightBlue',\n",
       " 'DarkSalmon',\n",
       " 'Tomato',\n",
       " 'AntiqueWhite',\n",
       " 'Lavender',\n",
       " 'Gainsboro',\n",
       " 'LawnGreen',\n",
       " 'LimeGreen',\n",
       " 'DarkSeaGreen',\n",
       " 'Orchid',\n",
       " 'DarkRed',\n",
       " 'Silver',\n",
       " 'Navy',\n",
       " 'MediumSlateBlue',\n",
       " 'Maroon',\n",
       " 'WhiteSmoke',\n",
       " 'SandyBrown',\n",
       " 'Indigo',\n",
       " 'LightGrey',\n",
       " 'Peachpuff',\n",
       " 'LightGreen',\n",
       " 'Coral',\n",
       " 'Mintcream',\n",
       " 'Olive',\n",
       " 'DarkTurquoise',\n",
       " 'Aqua',\n",
       " 'DarkOrange',\n",
       " 'SeaShell',\n",
       " 'Wheat',\n",
       " 'GhostWhite',\n",
       " 'LightSeaGreen',\n",
       " 'CornflowerBlue',\n",
       " 'SeaGreen',\n",
       " 'DodgerBlue',\n",
       " 'Goldenrod',\n",
       " 'AliceBlue',\n",
       " 'Sienna',\n",
       " 'SlateGray',\n",
       " 'MediumBlue',\n",
       " 'DarkMagenta',\n",
       " 'DarkSlateBlue',\n",
       " 'LightYellow',\n",
       " 'Salmon',\n",
       " 'RoyalBlue',\n",
       " 'PapayaWhip',\n",
       " 'DarkGoldenrod',\n",
       " 'PowderBlue',\n",
       " 'Aquamarine',\n",
       " 'DimGray',\n",
       " 'PaleGreen',\n",
       " 'LightSalmon',\n",
       " 'SpringGreen',\n",
       " 'SkyBlue',\n",
       " 'MistyRose',\n",
       " 'OrangeRed',\n",
       " 'LightSlateGray',\n",
       " 'MediumPurple',\n",
       " 'DarkGreen',\n",
       " 'LightCoral',\n",
       " 'Black',\n",
       " 'PaleGoldenrod',\n",
       " 'Thistle',\n",
       " 'FireBrick',\n",
       " 'PaleVioletRed',\n",
       " 'GreenYellow',\n",
       " 'Brown',\n",
       " 'Cyan',\n",
       " 'Moccasin',\n",
       " 'Teal',\n",
       " 'SlateBlue',\n",
       " 'SaddleBrown',\n",
       " 'Gray',\n",
       " 'MediumSeaGreen',\n",
       " 'BlanchedAlmond',\n",
       " 'LightPink',\n",
       " 'Cornsilk',\n",
       " 'Yellow',\n",
       " 'ForestGreen',\n",
       " 'Blue',\n",
       " 'Magenta',\n",
       " 'Linen',\n",
       " 'PaleTurquoise',\n",
       " 'YellowGreen',\n",
       " 'DarkOliveGreen',\n",
       " 'Purple',\n",
       " 'Crimson',\n",
       " 'DarkKhaki',\n",
       " 'NavajoWhite',\n",
       " 'Beige',\n",
       " 'DarkGray',\n",
       " 'Violet',\n",
       " 'DarkSlateGray',\n",
       " 'LightskyBlue',\n",
       " 'SteelBlue',\n",
       " 'LavenderBlush',\n",
       " 'Tan',\n",
       " 'Snow']"
      ]
     },
     "execution_count": 13,
     "metadata": {},
     "output_type": "execute_result"
    }
   ],
   "source": [
    "colors_list = pickle.load(open('permuted_colors.pkl','rb'))\n"
   ]
  },
  {
   "cell_type": "code",
   "execution_count": 16,
   "metadata": {
    "ExecuteTime": {
     "end_time": "2018-07-22T20:29:30.240250Z",
     "start_time": "2018-07-22T20:29:30.235689Z"
    },
    "scrolled": true
   },
   "outputs": [
    {
     "data": {
      "text/plain": [
       "{'PN': 'Chocolate',\n",
       " 'SP5O': 'Bisque',\n",
       " 'VCP': 'MediumSpringGreen',\n",
       " '3N': 'Plum',\n",
       " 'RMC': 'White',\n",
       " 'PBG': 'LightCyan',\n",
       " 'VCA': 'Azure',\n",
       " 'TZ': 'Khaki',\n",
       " 'IC': 'HotPink',\n",
       " '5N': 'LightGoldenrodYellow',\n",
       " 'SC': 'MediumOrchid',\n",
       " 'VLL': 'Red',\n",
       " 'SNC': 'DarkOrchid',\n",
       " 'RTTG': 'DeepSkyBlue',\n",
       " 'LC': 'FloralWhite',\n",
       " '7N': 'Oldlace',\n",
       " 'SP5C': 'IndianRed',\n",
       " 'AP': 'Ivory',\n",
       " '12N': 'DarkBlue',\n",
       " '6N': 'MediumAquamarine',\n",
       " '10N': 'Pink',\n",
       " 'LRT': 'RosyBrown',\n",
       " '4N': 'DarkViolet',\n",
       " 'AMB': 'Honeydew',\n",
       " 'SP5I': 'Lime',\n",
       " 'SNR': 'MidnightBlue',\n",
       " 'DC': 'Turquoise'}"
      ]
     },
     "execution_count": 16,
     "metadata": {},
     "output_type": "execute_result"
    }
   ],
   "source": [
    "indices=meta['sorted_keys']\n",
    "struct_D={}\n",
    "for i,s in enumerate(set([x[0] for x in indices])):\n",
    "    struct_D[s]=colors_list[i]\n",
    "struct_D"
   ]
  },
  {
   "cell_type": "code",
   "execution_count": 20,
   "metadata": {
    "ExecuteTime": {
     "end_time": "2018-07-22T21:17:34.571490Z",
     "start_time": "2018-07-22T21:17:34.566758Z"
    }
   },
   "outputs": [
    {
     "data": {
      "text/plain": [
       "[('10N', 'L'),\n",
       " ('10N', 'R'),\n",
       " ('12N', None),\n",
       " ('3N', 'L'),\n",
       " ('3N', 'R'),\n",
       " ('4N', 'L'),\n",
       " ('4N', 'R'),\n",
       " ('5N', 'L'),\n",
       " ('5N', 'R'),\n",
       " ('6N', 'L'),\n",
       " ('6N', 'R'),\n",
       " ('7N', 'L'),\n",
       " ('7N', 'R'),\n",
       " ('AMB', 'L'),\n",
       " ('AMB', 'R'),\n",
       " ('AP', None),\n",
       " ('DC', 'L'),\n",
       " ('DC', 'R'),\n",
       " ('IC', None),\n",
       " ('LC', 'L'),\n",
       " ('LC', 'R'),\n",
       " ('LRT', 'L'),\n",
       " ('LRT', 'R'),\n",
       " ('PBG', 'L'),\n",
       " ('PBG', 'R'),\n",
       " ('PN', 'L'),\n",
       " ('PN', 'R'),\n",
       " ('RMC', 'L'),\n",
       " ('RMC', 'R'),\n",
       " ('RTTG', None),\n",
       " ('SC', None),\n",
       " ('SNC', 'L'),\n",
       " ('SNC', 'R'),\n",
       " ('SNR', 'L'),\n",
       " ('SNR', 'R'),\n",
       " ('SP5C', 'L'),\n",
       " ('SP5C', 'R'),\n",
       " ('SP5I', 'L'),\n",
       " ('SP5I', 'R'),\n",
       " ('SP5O', 'L'),\n",
       " ('SP5O', 'R'),\n",
       " ('TZ', 'L'),\n",
       " ('TZ', 'R'),\n",
       " ('VCA', 'L'),\n",
       " ('VCA', 'R'),\n",
       " ('VCP', 'L'),\n",
       " ('VCP', 'R'),\n",
       " ('VLL', 'L'),\n",
       " ('VLL', 'R')]"
      ]
     },
     "execution_count": 20,
     "metadata": {},
     "output_type": "execute_result"
    }
   ],
   "source": [
    "indices"
   ]
  },
  {
   "cell_type": "code",
   "execution_count": 19,
   "metadata": {
    "ExecuteTime": {
     "end_time": "2018-07-22T21:15:53.799460Z",
     "start_time": "2018-07-22T21:15:53.795690Z"
    }
   },
   "outputs": [
    {
     "data": {
      "text/plain": [
       "'Pink'"
      ]
     },
     "execution_count": 19,
     "metadata": {},
     "output_type": "execute_result"
    }
   ],
   "source": [
    "i=2\n",
    "struct_D[indices[i][0]]"
   ]
  },
  {
   "cell_type": "code",
   "execution_count": 48,
   "metadata": {
    "ExecuteTime": {
     "end_time": "2018-07-21T23:46:30.135746Z",
     "start_time": "2018-07-21T23:46:30.132703Z"
    }
   },
   "outputs": [],
   "source": [
    "Struct2Single=[[] for i in range(no_of_structures)]\n",
    "#create a table that maps each structure to all of the \"single\"s which correspond to it\n",
    "i=0\n",
    "for single,multi in meta['Single2Multi'].items():\n",
    "    #print(i,single,multi)\n",
    "    for struct in multi:\n",
    "        Struct2Single[struct].append(single)\n",
    "        #print(i,'adding',single,'to',struct,'resulting in',Struct2Single)\n",
    "    #if i>5:\n",
    "    #    break\n",
    "    i+=1"
   ]
  },
  {
   "cell_type": "code",
   "execution_count": null,
   "metadata": {},
   "outputs": [],
   "source": []
  },
  {
   "cell_type": "code",
   "execution_count": 46,
   "metadata": {
    "ExecuteTime": {
     "end_time": "2018-07-21T22:55:35.710669Z",
     "start_time": "2018-07-21T22:55:35.706047Z"
    }
   },
   "outputs": [
    {
     "data": {
      "text/plain": [
       "[[54, 56],\n",
       " [55, 57],\n",
       " [53, 56, 57],\n",
       " [12],\n",
       " [13],\n",
       " [24],\n",
       " [25],\n",
       " [26, 32],\n",
       " [27],\n",
       " [37],\n",
       " [38],\n",
       " [30, 32],\n",
       " [31],\n",
       " [47],\n",
       " [48],\n",
       " [58],\n",
       " [39, 41, 43],\n",
       " [40, 42, 44],\n",
       " [17],\n",
       " [33],\n",
       " [34],\n",
       " [51],\n",
       " [52],\n",
       " [22],\n",
       " [23],\n",
       " [8, 15],\n",
       " [9, 16],\n",
       " [6, 10],\n",
       " [7, 11],\n",
       " [14, 15, 16],\n",
       " [5],\n",
       " [3, 10],\n",
       " [4, 11],\n",
       " [1],\n",
       " [2],\n",
       " [59, 60],\n",
       " [61, 62],\n",
       " [49, 59],\n",
       " [50, 62],\n",
       " [35, 41],\n",
       " [36, 42],\n",
       " [20],\n",
       " [21],\n",
       " [28],\n",
       " [29],\n",
       " [43, 45],\n",
       " [44, 46],\n",
       " [18],\n",
       " [19]]"
      ]
     },
     "execution_count": 46,
     "metadata": {},
     "output_type": "execute_result"
    }
   ],
   "source": [
    "#Struct2Single=[[]]*no_of_structures\n",
    "Struct2Single\n",
    "    "
   ]
  },
  {
   "cell_type": "code",
   "execution_count": 2,
   "metadata": {
    "ExecuteTime": {
     "end_time": "2018-07-22T18:03:00.521100Z",
     "start_time": "2018-07-22T18:03:00.502200Z"
    }
   },
   "outputs": [],
   "source": [
    "from skimage.measure import marching_cubes_lewiner,marching_cubes\n",
    "blob_index=[]\n",
    "kwargs={}\n",
    "for struct in range(0,no_of_structures):\n",
    "    blob=zeros(tbl.shape,dtype=np.float16)\n",
    "\n",
    "    #Take the union of all relevant single-labels\n",
    "    for single in Struct2Single[struct]:\n",
    "        blob[tbl==single]=1.\n",
    "\n",
    "    X=marching_cubes_lewiner(blob)\n",
    "    print(struct,X[0].shape,X[1].shape)\n",
    "    kwargs['points_'+str(struct)]=X[0]\n",
    "    kwargs['triangles_'+str(struct)]=X[1]\n",
    "    kwargs['normals_'+str(struct)]=X[2]\n",
    "\n",
    "\n",
    "np.savez_compressed('tessaltions_compressed',**kwargs)"
   ]
  },
  {
   "cell_type": "code",
   "execution_count": 38,
   "metadata": {
    "ExecuteTime": {
     "end_time": "2018-07-20T20:48:09.573376Z",
     "start_time": "2018-07-20T20:48:09.435644Z"
    }
   },
   "outputs": [
    {
     "name": "stdout",
     "output_type": "stream",
     "text": [
      "-rw-r--r--  1 yoavfreund  staff    99M Jul 20 13:45 tessaltions.npz\r\n",
      "-rw-r--r--  1 yoavfreund  staff    29M Jul 20 13:48 tessaltions_compressed.npz\r\n"
     ]
    }
   ],
   "source": [
    "!ls -lh tessaltions*.npz"
   ]
  },
  {
   "cell_type": "code",
   "execution_count": 37,
   "metadata": {
    "ExecuteTime": {
     "end_time": "2018-07-20T20:48:09.433063Z",
     "start_time": "2018-07-20T20:48:00.365260Z"
    }
   },
   "outputs": [],
   "source": [
    "np.savez_compressed('tessaltions_compressed',**kwargs)"
   ]
  },
  {
   "cell_type": "code",
   "execution_count": null,
   "metadata": {},
   "outputs": [],
   "source": []
  },
  {
   "cell_type": "code",
   "execution_count": 34,
   "metadata": {
    "ExecuteTime": {
     "end_time": "2018-07-20T20:46:44.568354Z",
     "start_time": "2018-07-20T20:46:44.558751Z"
    }
   },
   "outputs": [
    {
     "data": {
      "text/plain": [
       "['points_0',\n",
       " 'triangles_0',\n",
       " 'points_1',\n",
       " 'triangles_1',\n",
       " 'points_2',\n",
       " 'triangles_2',\n",
       " 'points_3',\n",
       " 'triangles_3',\n",
       " 'points_4',\n",
       " 'triangles_4',\n",
       " 'points_5',\n",
       " 'triangles_5',\n",
       " 'points_6',\n",
       " 'triangles_6',\n",
       " 'points_7',\n",
       " 'triangles_7',\n",
       " 'points_8',\n",
       " 'triangles_8',\n",
       " 'points_9',\n",
       " 'triangles_9',\n",
       " 'points_12',\n",
       " 'triangles_12',\n",
       " 'points_13',\n",
       " 'triangles_13',\n",
       " 'points_14',\n",
       " 'triangles_14',\n",
       " 'points_15',\n",
       " 'triangles_15',\n",
       " 'points_16',\n",
       " 'triangles_16',\n",
       " 'points_17',\n",
       " 'triangles_17',\n",
       " 'points_18',\n",
       " 'triangles_18',\n",
       " 'points_19',\n",
       " 'triangles_19',\n",
       " 'points_20',\n",
       " 'triangles_20',\n",
       " 'points_21',\n",
       " 'triangles_21',\n",
       " 'points_22',\n",
       " 'triangles_22',\n",
       " 'points_23',\n",
       " 'triangles_23',\n",
       " 'points_24',\n",
       " 'triangles_24',\n",
       " 'points_25',\n",
       " 'triangles_25',\n",
       " 'points_26',\n",
       " 'triangles_26',\n",
       " 'points_27',\n",
       " 'triangles_27',\n",
       " 'points_28',\n",
       " 'triangles_28',\n",
       " 'points_29',\n",
       " 'triangles_29',\n",
       " 'points_30',\n",
       " 'triangles_30',\n",
       " 'points_31',\n",
       " 'triangles_31',\n",
       " 'points_32',\n",
       " 'triangles_32',\n",
       " 'points_33',\n",
       " 'triangles_33',\n",
       " 'points_34',\n",
       " 'triangles_34',\n",
       " 'points_35',\n",
       " 'triangles_35',\n",
       " 'points_36',\n",
       " 'triangles_36',\n",
       " 'points_37',\n",
       " 'triangles_37',\n",
       " 'points_38',\n",
       " 'triangles_38',\n",
       " 'points_39',\n",
       " 'triangles_39',\n",
       " 'points_40',\n",
       " 'triangles_40',\n",
       " 'points_41',\n",
       " 'triangles_41',\n",
       " 'points_42',\n",
       " 'triangles_42',\n",
       " 'points_43',\n",
       " 'triangles_43',\n",
       " 'points_44',\n",
       " 'triangles_44',\n",
       " 'points_45',\n",
       " 'triangles_45',\n",
       " 'points_46',\n",
       " 'triangles_46',\n",
       " 'points_47',\n",
       " 'triangles_47',\n",
       " 'points_48',\n",
       " 'triangles_48',\n",
       " 'points_49',\n",
       " 'triangles_49',\n",
       " 'points_50',\n",
       " 'triangles_50',\n",
       " 'points_51',\n",
       " 'triangles_51',\n",
       " 'points_52',\n",
       " 'triangles_52',\n",
       " 'points_53',\n",
       " 'triangles_53',\n",
       " 'points_54',\n",
       " 'triangles_54',\n",
       " 'points_55',\n",
       " 'triangles_55',\n",
       " 'points_56',\n",
       " 'triangles_56',\n",
       " 'points_57',\n",
       " 'triangles_57',\n",
       " 'points_58',\n",
       " 'triangles_58',\n",
       " 'points_59',\n",
       " 'triangles_59',\n",
       " 'points_60',\n",
       " 'triangles_60',\n",
       " 'points_61',\n",
       " 'triangles_61',\n",
       " 'points_62',\n",
       " 'triangles_62',\n",
       " 'index']"
      ]
     },
     "execution_count": 34,
     "metadata": {},
     "output_type": "execute_result"
    }
   ],
   "source": [
    "Data=np.load('tessaltions.npz')\n",
    "Data.keys()"
   ]
  },
  {
   "cell_type": "code",
   "execution_count": 19,
   "metadata": {
    "ExecuteTime": {
     "end_time": "2018-07-20T19:58:00.082818Z",
     "start_time": "2018-07-20T19:58:00.079302Z"
    }
   },
   "outputs": [
    {
     "data": {
      "text/plain": [
       "numpy.lib.npyio.NpzFile"
      ]
     },
     "execution_count": 19,
     "metadata": {},
     "output_type": "execute_result"
    }
   ],
   "source": [
    "type(Data)"
   ]
  },
  {
   "cell_type": "code",
   "execution_count": 22,
   "metadata": {
    "ExecuteTime": {
     "end_time": "2018-07-20T19:58:41.432359Z",
     "start_time": "2018-07-20T19:58:41.426822Z"
    }
   },
   "outputs": [
    {
     "data": {
      "text/plain": [
       "array([[ 35., 120., 240.],\n",
       "       [ 40., 120., 235.],\n",
       "       [ 40., 115., 240.],\n",
       "       [ 40., 115., 250.],\n",
       "       [ 35., 120., 250.]], dtype=float32)"
      ]
     },
     "execution_count": 22,
     "metadata": {},
     "output_type": "execute_result"
    }
   ],
   "source": [
    "Data['points'][:5,:]"
   ]
  },
  {
   "cell_type": "code",
   "execution_count": 23,
   "metadata": {
    "ExecuteTime": {
     "end_time": "2018-07-20T19:59:07.312332Z",
     "start_time": "2018-07-20T19:59:07.307620Z"
    }
   },
   "outputs": [
    {
     "data": {
      "text/plain": [
       "array([[2, 1, 0],\n",
       "       [4, 3, 0],\n",
       "       [0, 3, 2],\n",
       "       [6, 5, 4],\n",
       "       [4, 5, 3]], dtype=int32)"
      ]
     },
     "execution_count": 23,
     "metadata": {},
     "output_type": "execute_result"
    }
   ],
   "source": [
    "Data['triangles'][:5,:]"
   ]
  },
  {
   "cell_type": "code",
   "execution_count": null,
   "metadata": {},
   "outputs": [],
   "source": []
  }
 ],
 "metadata": {
  "hide_input": false,
  "kernelspec": {
   "display_name": "Python 3",
   "language": "python",
   "name": "python3"
  },
  "language_info": {
   "codemirror_mode": {
    "name": "ipython",
    "version": 3
   },
   "file_extension": ".py",
   "mimetype": "text/x-python",
   "name": "python",
   "nbconvert_exporter": "python",
   "pygments_lexer": "ipython3",
   "version": "3.6.4"
  },
  "toc": {
   "base_numbering": 1,
   "nav_menu": {},
   "number_sections": true,
   "sideBar": true,
   "skip_h1_title": false,
   "title_cell": "Table of Contents",
   "title_sidebar": "Contents",
   "toc_cell": false,
   "toc_position": {},
   "toc_section_display": true,
   "toc_window_display": false
  }
 },
 "nbformat": 4,
 "nbformat_minor": 2
}
