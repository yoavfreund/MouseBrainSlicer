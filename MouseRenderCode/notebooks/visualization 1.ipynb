{
 "cells": [
  {
   "cell_type": "code",
   "execution_count": 1,
   "metadata": {
    "ExecuteTime": {
     "end_time": "2018-07-04T23:51:29.745113Z",
     "start_time": "2018-07-04T23:51:29.384033Z"
    }
   },
   "outputs": [
    {
     "name": "stdout",
     "output_type": "stream",
     "text": [
      "Populating the interactive namespace from numpy and matplotlib\n"
     ]
    }
   ],
   "source": [
    "%pylab inline"
   ]
  },
  {
   "cell_type": "code",
   "execution_count": 2,
   "metadata": {
    "ExecuteTime": {
     "end_time": "2018-07-04T23:54:20.668634Z",
     "start_time": "2018-07-04T23:54:20.666573Z"
    }
   },
   "outputs": [],
   "source": [
    "import numpy as np"
   ]
  },
  {
   "cell_type": "code",
   "execution_count": 4,
   "metadata": {
    "ExecuteTime": {
     "end_time": "2018-07-04T23:57:12.297429Z",
     "start_time": "2018-07-04T23:57:09.012336Z"
    }
   },
   "outputs": [],
   "source": [
    "!gunzip ../../v_atlas/compressed_atlas.npy.gz"
   ]
  },
  {
   "cell_type": "code",
   "execution_count": 9,
   "metadata": {
    "ExecuteTime": {
     "end_time": "2018-07-05T00:06:29.400608Z",
     "start_time": "2018-07-05T00:06:28.142817Z"
    }
   },
   "outputs": [],
   "source": [
    "atlas=np.load(open('../../v_atlas/compressed_atlas.npy','rb'))"
   ]
  },
  {
   "cell_type": "code",
   "execution_count": 10,
   "metadata": {
    "ExecuteTime": {
     "end_time": "2018-07-05T00:06:31.044605Z",
     "start_time": "2018-07-05T00:06:31.039659Z"
    }
   },
   "outputs": [],
   "source": [
    "import pickle as pk\n",
    "meta=pk.load(open('../../v_atlas/meta_information.pkl','rb'))"
   ]
  },
  {
   "cell_type": "code",
   "execution_count": 11,
   "metadata": {
    "ExecuteTime": {
     "end_time": "2018-07-05T00:06:31.705272Z",
     "start_time": "2018-07-05T00:06:31.702023Z"
    }
   },
   "outputs": [
    {
     "data": {
      "text/plain": [
       "dict_keys(['description', 'sorted_keys', 'Single2Multi', 'Multi2Single', 'binary2Single'])"
      ]
     },
     "execution_count": 11,
     "metadata": {},
     "output_type": "execute_result"
    }
   ],
   "source": [
    "meta.keys()"
   ]
  },
  {
   "cell_type": "code",
   "execution_count": 13,
   "metadata": {
    "ExecuteTime": {
     "end_time": "2018-07-05T00:06:36.899699Z",
     "start_time": "2018-07-05T00:06:36.896410Z"
    }
   },
   "outputs": [
    {
     "data": {
      "text/plain": [
       "(625, 571, 551)"
      ]
     },
     "execution_count": 13,
     "metadata": {},
     "output_type": "execute_result"
    }
   ],
   "source": [
    "atlas.shape"
   ]
  },
  {
   "cell_type": "code",
   "execution_count": 23,
   "metadata": {
    "ExecuteTime": {
     "end_time": "2018-07-05T00:25:32.007229Z",
     "start_time": "2018-07-05T00:25:31.755389Z"
    }
   },
   "outputs": [
    {
     "data": {
      "text/plain": [
       "<matplotlib.colorbar.Colorbar at 0x110817c50>"
      ]
     },
     "execution_count": 23,
     "metadata": {},
     "output_type": "execute_result"
    },
    {
     "data": {
      "image/png": "[encoded data removed]",
      "text/plain": [
       "<Figure size 432x288 with 4 Axes>"
      ]
     },
     "metadata": {},
     "output_type": "display_data"
    }
   ],
   "source": [
    "import numpy as np\n",
    "import matplotlib.pylab as pl\n",
    "from matplotlib.colors import ListedColormap\n",
    "\n",
    "# Random data\n",
    "data1 = np.random.random((4,4))\n",
    "\n",
    "# Choose colormap\n",
    "cmap = pl.cm.RdBu\n",
    "\n",
    "# Get the colormap colors\n",
    "my_cmap = cmap(np.arange(cmap.N))\n",
    "\n",
    "# Set alpha\n",
    "my_cmap[:,-1] = np.linspace(0, 1, cmap.N)\n",
    "\n",
    "# Create new colormap\n",
    "my_cmap = ListedColormap(my_cmap)\n",
    "\n",
    "pl.figure()\n",
    "pl.subplot(121)\n",
    "pl.pcolormesh(data1, cmap=pl.cm.RdBu)\n",
    "pl.colorbar()\n",
    "\n",
    "pl.subplot(122)\n",
    "pl.pcolormesh(data1, cmap=my_cmap)\n",
    "pl.colorbar()"
   ]
  },
  {
   "cell_type": "code",
   "execution_count": null,
   "metadata": {
    "ExecuteTime": {
     "start_time": "2018-07-05T19:52:30.256Z"
    }
   },
   "outputs": [],
   "source": [
    "figure(figsize=[10,10])\n",
    "for i in range(340,360):\n",
    "    imshow(atlas[i,:,:],cmap=my_cmap)"
   ]
  },
  {
   "cell_type": "code",
   "execution_count": null,
   "metadata": {},
   "outputs": [],
   "source": []
  }
 ],
 "metadata": {
  "hide_input": false,
  "kernelspec": {
   "display_name": "Python 3",
   "language": "python",
   "name": "python3"
  },
  "language_info": {
   "codemirror_mode": {
    "name": "ipython",
    "version": 3
   },
   "file_extension": ".py",
   "mimetype": "text/x-python",
   "name": "python",
   "nbconvert_exporter": "python",
   "pygments_lexer": "ipython3",
   "version": "3.6.4"
  },
  "toc": {
   "base_numbering": 1,
   "nav_menu": {},
   "number_sections": true,
   "sideBar": true,
   "skip_h1_title": false,
   "title_cell": "Table of Contents",
   "title_sidebar": "Contents",
   "toc_cell": false,
   "toc_position": {},
   "toc_section_display": true,
   "toc_window_display": false
  }
 },
 "nbformat": 4,
 "nbformat_minor": 2
}
