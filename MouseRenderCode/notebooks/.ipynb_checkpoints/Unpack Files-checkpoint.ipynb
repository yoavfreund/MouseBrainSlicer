{
 "cells": [
  {
   "cell_type": "code",
   "execution_count": 4,
   "metadata": {
    "ExecuteTime": {
     "end_time": "2018-07-04T20:19:46.362862Z",
     "start_time": "2018-07-04T20:19:46.354701Z"
    }
   },
   "outputs": [
    {
     "name": "stdout",
     "output_type": "stream",
     "text": [
      "Populating the interactive namespace from numpy and matplotlib\n"
     ]
    }
   ],
   "source": [
    "from glob import glob\n",
    "%pylab inline"
   ]
  },
  {
   "cell_type": "code",
   "execution_count": 5,
   "metadata": {
    "ExecuteTime": {
     "end_time": "2018-07-04T20:19:48.035785Z",
     "start_time": "2018-07-04T20:19:48.033530Z"
    }
   },
   "outputs": [],
   "source": [
    "import numpy as np"
   ]
  },
  {
   "cell_type": "code",
   "execution_count": 6,
   "metadata": {
    "ExecuteTime": {
     "end_time": "2018-07-04T20:19:49.373460Z",
     "start_time": "2018-07-04T20:19:49.241729Z"
    }
   },
   "outputs": [
    {
     "name": "stdout",
     "output_type": "stream",
     "text": [
      "rm: ../../score_volumes/*test*: No such file or directory\r\n"
     ]
    }
   ],
   "source": [
    "data_dir='../../score_volumes'\n",
    "!rm $data_dir/*test*"
   ]
  },
  {
   "cell_type": "code",
   "execution_count": 16,
   "metadata": {
    "ExecuteTime": {
     "end_time": "2018-07-04T20:26:40.099704Z",
     "start_time": "2018-07-04T20:26:38.116503Z"
    }
   },
   "outputs": [
    {
     "name": "stdout",
     "output_type": "stream",
     "text": [
      "7N _L L . npy\n",
      "7N _R R _surround_200um. npy\n",
      "7N _L L _surround_200um. npy\n",
      "7N _R R . npy\n",
      "7N _L L _origin_wrt_canonicalAtlasSpace. txt\n",
      "7N _R R _surround_200um_origin_wrt_canonicalAtlasSpace. txt\n",
      "7N _L L _surround_200um_origin_wrt_canonicalAtlasSpace. txt\n",
      "7N _R R _origin_wrt_canonicalAtlasSpace. txt\n"
     ]
    }
   ],
   "source": [
    "import re\n",
    "from collections import Counter\n",
    "pat=re.compile(r'.*_scoreVolume_([^_\\.]+)(_(R|L))?(.*)(txt|npy)')\n",
    "D={}\n",
    "Ends=Counter()\n",
    "\n",
    "for file in glob(data_dir+'/*.npy')+glob(data_dir+'/*.txt'):\n",
    "    #print(file)\n",
    "    m=pat.match(file)\n",
    "    if m:\n",
    "        code,_side,side,ending,ext=m.groups()\n",
    "        code=code.upper()\n",
    "        if '7' in code:\n",
    "            print(code,_side,side,ending,ext)\n",
    "        index=[code,side]\n",
    "        if 'surround' in ending:\n",
    "            index.append('S')\n",
    "        else:\n",
    "            index.append('')\n",
    "        index=tuple(index)\n",
    "        #print(index,ext)\n",
    "        if m.group(4)=='':\n",
    "            print('No group(4):',file)\n",
    "        Ends[m.group(4)]+=1\n",
    "    else:\n",
    "        error('No Match')\n",
    "        \n",
    "    if not index in D:\n",
    "        D[index]={}\n",
    "    if ext=='npy':\n",
    "        D[index]['a']=np.load(file)\n",
    "    elif ext=='txt':\n",
    "        xyz=[]\n",
    "        for line in open(file,'rt').readlines():\n",
    "            xyz.append(float(line))\n",
    "        D[index]['xyz']=xyz\n",
    "    else:\n",
    "        error('unrecognized extension:'+ file)\n"
   ]
  },
  {
   "cell_type": "code",
   "execution_count": 17,
   "metadata": {
    "ExecuteTime": {
     "end_time": "2018-07-04T20:26:51.408489Z",
     "start_time": "2018-07-04T20:26:51.401973Z"
    }
   },
   "outputs": [
    {
     "data": {
      "text/plain": [
       "array([[[0., 0., 0., ..., 0., 0., 0.],\n",
       "        [0., 0., 0., ..., 0., 0., 0.],\n",
       "        [0., 0., 0., ..., 0., 0., 0.],\n",
       "        ...,\n",
       "        [0., 0., 0., ..., 0., 0., 0.],\n",
       "        [0., 0., 0., ..., 0., 0., 0.],\n",
       "        [0., 0., 0., ..., 0., 0., 0.]],\n",
       "\n",
       "       [[0., 0., 0., ..., 0., 0., 0.],\n",
       "        [0., 0., 0., ..., 0., 0., 0.],\n",
       "        [0., 0., 0., ..., 0., 0., 0.],\n",
       "        ...,\n",
       "        [0., 0., 0., ..., 0., 0., 0.],\n",
       "        [0., 0., 0., ..., 0., 0., 0.],\n",
       "        [0., 0., 0., ..., 0., 0., 0.]],\n",
       "\n",
       "       [[0., 0., 0., ..., 0., 0., 0.],\n",
       "        [0., 0., 0., ..., 0., 0., 0.],\n",
       "        [0., 0., 0., ..., 0., 0., 0.],\n",
       "        ...,\n",
       "        [0., 0., 0., ..., 0., 0., 0.],\n",
       "        [0., 0., 0., ..., 0., 0., 0.],\n",
       "        [0., 0., 0., ..., 0., 0., 0.]],\n",
       "\n",
       "       ...,\n",
       "\n",
       "       [[0., 0., 0., ..., 0., 0., 0.],\n",
       "        [0., 0., 0., ..., 0., 0., 0.],\n",
       "        [0., 0., 0., ..., 0., 0., 0.],\n",
       "        ...,\n",
       "        [0., 0., 0., ..., 0., 0., 0.],\n",
       "        [0., 0., 0., ..., 0., 0., 0.],\n",
       "        [0., 0., 0., ..., 0., 0., 0.]],\n",
       "\n",
       "       [[0., 0., 0., ..., 0., 0., 0.],\n",
       "        [0., 0., 0., ..., 0., 0., 0.],\n",
       "        [0., 0., 0., ..., 0., 0., 0.],\n",
       "        ...,\n",
       "        [0., 0., 0., ..., 0., 0., 0.],\n",
       "        [0., 0., 0., ..., 0., 0., 0.],\n",
       "        [0., 0., 0., ..., 0., 0., 0.]],\n",
       "\n",
       "       [[0., 0., 0., ..., 0., 0., 0.],\n",
       "        [0., 0., 0., ..., 0., 0., 0.],\n",
       "        [0., 0., 0., ..., 0., 0., 0.],\n",
       "        ...,\n",
       "        [0., 0., 0., ..., 0., 0., 0.],\n",
       "        [0., 0., 0., ..., 0., 0., 0.],\n",
       "        [0., 0., 0., ..., 0., 0., 0.]]])"
      ]
     },
     "execution_count": 17,
     "metadata": {},
     "output_type": "execute_result"
    }
   ],
   "source": [
    "L=list(D.keys())\n",
    "D[L[0]]['a']"
   ]
  },
  {
   "cell_type": "code",
   "execution_count": 18,
   "metadata": {
    "ExecuteTime": {
     "end_time": "2018-07-04T20:26:52.415542Z",
     "start_time": "2018-07-04T20:26:52.410442Z"
    }
   },
   "outputs": [
    {
     "name": "stdout",
     "output_type": "stream",
     "text": [
      "('7N', 'L', '') 5772480\n",
      "('7N', 'R', 'S') 21918080\n",
      "('7N', 'L', 'S') 21918080\n",
      "('7N', 'R', '') 5772480\n"
     ]
    }
   ],
   "source": [
    "s=0\n",
    "for l in L:\n",
    "    if not '7' in l[0]:\n",
    "        continue\n",
    "    a=sys.getsizeof(D[l]['a'])\n",
    "    print(l,a)\n",
    "    s+=a"
   ]
  },
  {
   "cell_type": "code",
   "execution_count": 20,
   "metadata": {
    "ExecuteTime": {
     "end_time": "2018-07-04T20:27:10.621362Z",
     "start_time": "2018-07-04T20:27:10.618172Z"
    }
   },
   "outputs": [
    {
     "name": "stdout",
     "output_type": "stream",
     "text": [
      "total size is  0.05538112 GB\n"
     ]
    }
   ],
   "source": [
    "print('total size is ',s/1000000000,'GB')"
   ]
  },
  {
   "cell_type": "code",
   "execution_count": 138,
   "metadata": {
    "ExecuteTime": {
     "end_time": "2018-07-01T02:01:59.167167Z",
     "start_time": "2018-07-01T02:01:59.165173Z"
    }
   },
   "outputs": [],
   "source": [
    "# pickle.dumps(D,open('A.pkz','wb')) #,protocol=pickle.HIGHEST_PROTOCOL)"
   ]
  },
  {
   "cell_type": "code",
   "execution_count": null,
   "metadata": {},
   "outputs": [],
   "source": []
  },
  {
   "cell_type": "code",
   "execution_count": 21,
   "metadata": {
    "ExecuteTime": {
     "end_time": "2018-07-04T20:27:24.472545Z",
     "start_time": "2018-07-04T20:27:24.458982Z"
    }
   },
   "outputs": [
    {
     "name": "stdout",
     "output_type": "stream",
     "text": [
      "min: [-298.40394332100215, -360.80157318057434, -299.84928186051036]\n",
      "max: [187.28753233497864, 97.21625074505941, 199.84928186051033]\n"
     ]
    }
   ],
   "source": [
    "_max=[-1000]*3\n",
    "_min=[1000]*3\n",
    "for key in D:\n",
    "    #print(key,D[key]['a'].shape,D[key]['xyz'])\n",
    "    try:\n",
    "        a=D[key]['xyz']\n",
    "        for i in range(3):\n",
    "            if a[i] > _max[i]:\n",
    "                _max[i]=a[i]\n",
    "            if a[i] < _min[i]:\n",
    "                _min[i]=a[i]\n",
    "        #print(a)\n",
    "    except:\n",
    "        print(key,'has no xyz')\n",
    "\n",
    "print('min:',_min)\n",
    "print('max:',_max)"
   ]
  },
  {
   "cell_type": "code",
   "execution_count": 22,
   "metadata": {
    "ExecuteTime": {
     "end_time": "2018-07-04T20:27:32.942084Z",
     "start_time": "2018-07-04T20:27:32.936940Z"
    }
   },
   "outputs": [
    {
     "name": "stdout",
     "output_type": "stream",
     "text": [
      "[-21.383914693346288, -24.89324182201767, -0.9415164024030673]\n"
     ]
    }
   ],
   "source": [
    "xyz=[]\n",
    "for line in open(file,'rt').readlines():\n",
    "    xyz.append(float(line))\n",
    "print(xyz)"
   ]
  },
  {
   "cell_type": "markdown",
   "metadata": {
    "ExecuteTime": {
     "end_time": "2018-07-04T20:34:25.315430Z",
     "start_time": "2018-07-04T20:34:25.312234Z"
    }
   },
   "source": [
    "### at this point the surround volumes are dropped\n",
    "We don't need to visualize them."
   ]
  },
  {
   "cell_type": "code",
   "execution_count": 49,
   "metadata": {
    "ExecuteTime": {
     "end_time": "2018-07-04T20:46:44.739716Z",
     "start_time": "2018-07-04T20:46:44.734559Z"
    }
   },
   "outputs": [],
   "source": [
    "Data={}\n",
    "for key in D:\n",
    "    if key[2]=='S':\n",
    "        continue\n",
    "    short_key=key[:2]\n",
    "    Data[short_key]=D[key]"
   ]
  },
  {
   "cell_type": "code",
   "execution_count": 74,
   "metadata": {
    "ExecuteTime": {
     "end_time": "2018-07-04T21:01:00.311918Z",
     "start_time": "2018-07-04T21:01:00.308754Z"
    }
   },
   "outputs": [],
   "source": [
    "D=None # Drop the large table\n",
    "sorted_keys=list(sorted(Data.keys()))"
   ]
  },
  {
   "cell_type": "markdown",
   "metadata": {},
   "source": [
    "### Calculate some statistics of the shapes"
   ]
  },
  {
   "cell_type": "code",
   "execution_count": 107,
   "metadata": {
    "ExecuteTime": {
     "end_time": "2018-07-04T21:27:04.495428Z",
     "start_time": "2018-07-04T21:27:04.460762Z"
    }
   },
   "outputs": [
    {
     "name": "stdout",
     "output_type": "stream",
     "text": [
      "(ID,L/R,Surround) volume\t(lower indices corner)\t(highesrindices corner)\n",
      "('10N', 'L') \t 606320   \t [148  20 -55]     \t [236 150  -2]\n",
      "('10N', 'R') \t 606320   \t [148  20   3]     \t [236 150  56]\n",
      "('12N', None) \t 831792   \t [142  32 -44]     \t [220 156  42]\n",
      "('3N', 'L') \t 134316   \t [-165 -126  -40]     \t [-124  -63   12]\n",
      "('3N', 'R') \t 134316   \t [-165 -126  -11]     \t [-124  -63   41]\n",
      "('4N', 'L') \t 9177   \t [-109 -113  -35]     \t [-86 -94 -14]\n",
      "('4N', 'R') \t 9177   \t [-109 -113   15]     \t [-86 -94  36]\n",
      "('5N', 'L') \t 370402   \t [ -81  -40 -166]     \t [   5   33 -107]\n",
      "('5N', 'R') \t 370402   \t [-81 -40 108]     \t [  5  33 167]\n",
      "('6N', 'L') \t 16900   \t [  4   0 -49]     \t [ 29  26 -23]\n",
      "('6N', 'R') \t 16900   \t [ 4  0 24]     \t [29 26 50]\n",
      "('7N', 'L') \t 721544   \t [ -60   -6 -178]     \t [ 16  95 -84]\n",
      "('7N', 'R') \t 721544   \t [-60  -6  29]     \t [ 16  95 123]\n",
      "('AMB', 'L') \t 25704   \t [  84   92 -131]     \t [ 111  160 -117]\n",
      "('AMB', 'R') \t 25704   \t [ 84  92 118]     \t [111 160 132]\n",
      "('AP', None) \t 121002   \t [170   8 -19]     \t [212  75  24]\n",
      "('DC', 'L') \t 1849848   \t [   4  -76 -260]     \t [  92   67 -113]\n",
      "('DC', 'R') \t 1849848   \t [  4 -76 114]     \t [ 92  67 261]\n",
      "('IC', None) \t 16003460   \t [-155 -336 -194]     \t [  32 -116  195]\n",
      "('LC', 'L') \t 204693   \t [-46 -88 -98]     \t [ 25   5 -67]\n",
      "('LC', 'R') \t 204693   \t [-46 -88  68]     \t [25  5 99]\n",
      "('LRT', 'L') \t 1109304   \t [ 122   93 -156]     \t [215 235 -72]\n",
      "('LRT', 'R') \t 1109304   \t [122  93  73]     \t [215 235 157]\n",
      "('PBG', 'L') \t 207298   \t [-131 -173 -202]     \t [ -40 -106 -168]\n",
      "('PBG', 'R') \t 207298   \t [-131 -173  169]     \t [ -40 -106  203]\n",
      "('PN', 'L') \t 1309176   \t [-212   34 -122]     \t [-98 133  -6]\n",
      "('PN', 'R') \t 1309176   \t [-212   34    7]     \t [-98 133 123]\n",
      "('RMC', 'L') \t 459186   \t [-218  -87  -99]     \t [-160    4  -12]\n",
      "('RMC', 'R') \t 459186   \t [-218  -87   13]     \t [-160    4  100]\n",
      "('RTTG', None) \t 3025104   \t [-175   17  -96]     \t [-68 169  90]\n",
      "('SC', None) \t 15791776   \t [-250 -326 -185]     \t [-74 -88 192]\n",
      "('SNC', 'L') \t 906880   \t [-266  -82 -169]     \t [-157   -2  -65]\n",
      "('SNC', 'R') \t 906880   \t [-266  -82   66]     \t [-157   -2  170]\n",
      "('SNR', 'L') \t 2899540   \t [-273 -103 -206]     \t [-124   36  -66]\n",
      "('SNR', 'R') \t 2899540   \t [-273 -103   67]     \t [-124   36  207]\n",
      "('SP5C', 'L') \t 5015010   \t [ 187   -1 -213]     \t [352 166 -31]\n",
      "('SP5C', 'R') \t 5015010   \t [187  -1  32]     \t [352 166 214]\n",
      "('SP5I', 'L') \t 1481568   \t [ 131   -6 -234]     \t [ 263  116 -142]\n",
      "('SP5I', 'R') \t 1481568   \t [131  -6 143]     \t [263 116 235]\n",
      "('SP5O', 'L') \t 2487375   \t [ -11  -12 -232]     \t [ 114  189 -133]\n",
      "('SP5O', 'R') \t 2487375   \t [-11 -12 134]     \t [114 189 233]\n",
      "('TZ', 'L') \t 303902   \t [-122   97  -79]     \t [-75 203 -18]\n",
      "('TZ', 'R') \t 303902   \t [-122   97   19]     \t [-75 203  80]\n",
      "('VCA', 'L') \t 1132096   \t [ -62  -50 -275]     \t [  50   83 -199]\n",
      "('VCA', 'R') \t 1132096   \t [-62 -50 200]     \t [ 50  83 276]\n",
      "('VCP', 'L') \t 789600   \t [  16  -45 -262]     \t [ 128   49 -187]\n",
      "('VCP', 'R') \t 789600   \t [ 16 -45 188]     \t [128  49 263]\n",
      "('VLL', 'L') \t 2479880   \t [-161 -106 -192]     \t [ 90  -2 -97]\n",
      "('VLL', 'R') \t 2479880   \t [-161 -106   98]     \t [ 90  -2 193]\n",
      "min= [-273, -336, -275]\n",
      "max= [352, 235, 276]\n",
      "shape= [625 571 551]\n"
     ]
    }
   ],
   "source": [
    "_max=[-1000]*3\n",
    "_min=[1000]*3\n",
    "print(\"(ID,L/R,Surround) volume\\t(lower indices corner)\\t(highesrindices corner)\")\n",
    "for key in sorted_keys:\n",
    "    corner=np.array([round(x) for x in Data[key]['xyz']])\n",
    "    Data[key]['xyz']=corner\n",
    "    shape=np.array(Data[key]['a'].shape)\n",
    "    volume=shape[0]*shape[1]*shape[2]\n",
    "    opposite_corner = corner+shape\n",
    "    for i in range(3):\n",
    "        if _min[i]>corner[i]:\n",
    "            _min[i]=corner[i]\n",
    "        if _max[i]<opposite_corner[i]:\n",
    "            _max[i]=opposite_corner[i]\n",
    "    print(key,'\\t',volume,'  \\t',corner,'    \\t',opposite_corner)\n",
    "print('min=',_min)\n",
    "print('max=',_max)\n",
    "_shape=np.array(_max)-np.array(_min)\n",
    "print('shape=',_shape)"
   ]
  },
  {
   "cell_type": "code",
   "execution_count": 108,
   "metadata": {
    "ExecuteTime": {
     "end_time": "2018-07-04T21:27:07.784060Z",
     "start_time": "2018-07-04T21:27:07.781188Z"
    }
   },
   "outputs": [],
   "source": [
    "# A mapping from the structure keys to integer numbers\n",
    "struct_table={j:i for i,j in list(enumerate(sorted(sorted_keys)))}"
   ]
  },
  {
   "cell_type": "markdown",
   "metadata": {},
   "source": [
    "### Considering the histograms of the values in the volumes\n",
    "Based on browsing the histograms for a few structure I decided that the real value \n",
    "does not contain useful information. All values are very close to 1 or very close to zero."
   ]
  },
  {
   "cell_type": "code",
   "execution_count": 95,
   "metadata": {
    "ExecuteTime": {
     "end_time": "2018-07-04T21:09:30.002984Z",
     "start_time": "2018-07-04T21:09:30.000066Z"
    }
   },
   "outputs": [],
   "source": [
    "V=Data[('SP5C', 'R')]['a']"
   ]
  },
  {
   "cell_type": "code",
   "execution_count": 97,
   "metadata": {
    "ExecuteTime": {
     "end_time": "2018-07-04T21:09:32.119324Z",
     "start_time": "2018-07-04T21:09:32.095252Z"
    }
   },
   "outputs": [
    {
     "data": {
      "text/plain": [
       "0.13347032209307658"
      ]
     },
     "execution_count": 97,
     "metadata": {},
     "output_type": "execute_result"
    }
   ],
   "source": [
    "sum(V>0.2)/sum(V>=0)"
   ]
  },
  {
   "cell_type": "code",
   "execution_count": 92,
   "metadata": {
    "ExecuteTime": {
     "end_time": "2018-07-04T21:08:03.688820Z",
     "start_time": "2018-07-04T21:08:03.233052Z"
    }
   },
   "outputs": [
    {
     "data": {
      "image/png": "[encoded data removed]",
      "text/plain": [
       "<Figure size 432x288 with 1 Axes>"
      ]
     },
     "metadata": {},
     "output_type": "display_data"
    }
   ],
   "source": [
    "hist(V.flatten(),bins=100);"
   ]
  },
  {
   "cell_type": "markdown",
   "metadata": {},
   "source": [
    "### Building the matrix\n",
    "\n",
    "The matrix is a 3D array of 64 bit int\n",
    "\n",
    "Each bit is devoted to a structure and indicates whether the structure is there (p>0.5) or not there (p<0.5)"
   ]
  },
  {
   "cell_type": "code",
   "execution_count": 153,
   "metadata": {
    "ExecuteTime": {
     "end_time": "2018-07-04T21:57:29.649727Z",
     "start_time": "2018-07-04T21:57:27.194736Z"
    }
   },
   "outputs": [
    {
     "name": "stdout",
     "output_type": "stream",
     "text": [
      "('10N', 'L') [421 356 220] [ 88 130  53] [509 486 273] 0.020512270748119805\n",
      "('10N', 'R') [421 356 278] [ 88 130  53] [509 486 331] 0.020512270748119805\n",
      "('12N', None) [415 368 231] [ 78 124  86] [493 492 317] 0.15923692461576933\n",
      "('3N', 'L') [108 210 235] [41 63 52] [149 273 287] 0.10214717531790703\n",
      "('3N', 'R') [108 210 264] [41 63 52] [149 273 316] 0.10214717531790703\n",
      "('4N', 'L') [164 223 240] [23 19 21] [187 242 261] 0.10188514765173803\n",
      "('4N', 'R') [164 223 290] [23 19 21] [187 242 311] 0.10188514765173803\n",
      "('5N', 'L') [192 296 109] [86 73 59] [278 369 168] 0.20975318707782356\n",
      "('5N', 'R') [192 296 383] [86 73 59] [278 369 442] 0.20975318707782356\n",
      "('6N', 'L') [277 336 226] [25 26 26] [302 362 252] 0.1460355029585799\n",
      "('6N', 'R') [277 336 299] [25 26 26] [302 362 325] 0.1460355029585799\n",
      "('7N', 'L') [213 330  97] [ 76 101  94] [289 431 191] 0.22942883594070493\n",
      "('7N', 'R') [213 330 304] [ 76 101  94] [289 431 398] 0.22942883594070493\n",
      "('AMB', 'L') [357 428 144] [27 68 14] [384 496 158] 0.12997976968565203\n",
      "('AMB', 'R') [357 428 393] [27 68 14] [384 496 407] 0.12997976968565203\n",
      "('AP', None) [443 344 256] [42 67 43] [485 411 299] 0.13812168393910845\n",
      "('DC', 'L') [277 260  15] [ 88 143 147] [365 403 162] 0.0664870843442272\n",
      "('DC', 'R') [277 260 389] [ 88 143 147] [365 403 536] 0.0664870843442272\n",
      "('IC', None) [118   0  81] [187 220 389] [305 220 470] 0.1658125180429732\n",
      "('LC', 'L') [227 248 177] [71 93 31] [298 341 208] 0.1113570078116985\n",
      "('LC', 'R') [227 248 343] [71 93 31] [298 341 374] 0.1113570078116985\n",
      "('LRT', 'L') [395 429 119] [ 93 142  84] [488 571 203] 0.08918835594210424\n",
      "('LRT', 'R') [395 429 348] [ 93 142  84] [488 571 432] 0.08918835594210424\n",
      "('PBG', 'L') [142 163  73] [91 67 34] [233 230 107] 0.033796756360408686\n",
      "('PBG', 'R') [142 163 444] [91 67 34] [233 230 478] 0.033796756360408686\n",
      "('PN', 'L') [ 61 370 153] [114  99 116] [175 469 269] 0.19297634542643616\n",
      "('PN', 'R') [ 61 370 282] [114  99 116] [175 469 398] 0.19297634542643616\n",
      "('RMC', 'L') [ 55 249 176] [58 91 87] [113 340 263] 0.1137229793591268\n",
      "('RMC', 'R') [ 55 249 288] [58 91 87] [113 340 375] 0.1137229793591268\n",
      "('RTTG', None) [ 98 353 179] [107 152 186] [205 505 365] 0.13611697316852578\n",
      "('SC', None) [23 10 90] [176 238 377] [199 248 467] 0.24000283438670864\n",
      "('SNC', 'L') [  7 254 106] [109  80 104] [116 334 210] 0.02559103740296401\n",
      "('SNC', 'R') [  7 254 341] [109  80 104] [116 334 445] 0.02559103740296401\n",
      "('SNR', 'L') [  0 233  69] [149 139 140] [149 372 209] 0.14987273843437235\n",
      "('SNR', 'R') [  0 233 342] [149 139 140] [149 372 482] 0.14987273843437235\n",
      "('SP5C', 'L') [460 335  62] [165 167 182] [625 502 244] 0.08703372475827566\n",
      "('SP5C', 'R') [460 335 307] [165 167 182] [625 502 489] 0.08703372475827566\n",
      "('SP5I', 'L') [404 330  41] [132 122  92] [536 452 133] 0.19419695889760039\n",
      "('SP5I', 'R') [404 330 418] [132 122  92] [536 452 510] 0.19419695889760039\n",
      "('SP5O', 'L') [262 324  43] [125 201  99] [387 525 142] 0.16404080607065682\n",
      "('SP5O', 'R') [262 324 409] [125 201  99] [387 525 508] 0.16404080607065682\n",
      "('TZ', 'L') [151 433 196] [ 47 106  61] [198 539 257] 0.11986758889378812\n",
      "('TZ', 'R') [151 433 294] [ 47 106  61] [198 539 355] 0.11986758889378812\n",
      "('VCA', 'L') [211 286   0] [112 133  76] [323 419  76] 0.13405930239131664\n",
      "('VCA', 'R') [211 286 475] [112 133  76] [323 419 551] 0.13405930239131664\n",
      "('VCP', 'L') [289 291  13] [112  94  75] [401 385  88] 0.08258485309017224\n",
      "('VCP', 'R') [289 291 463] [112  94  75] [401 385 538] 0.08258485309017224\n",
      "('VLL', 'L') [112 230  83] [251 104  95] [363 334 178] 0.038693001274255207\n",
      "('VLL', 'R') [112 230 373] [251 104  95] [363 334 468] 0.038693001274255207\n"
     ]
    }
   ],
   "source": [
    "atlas=np.zeros(_shape,dtype=np.int64)\n",
    "\n",
    "for key in sorted_keys:\n",
    "    i=struct_table[key]\n",
    "\n",
    "    DD=Data[key]\n",
    "    corner=np.array(DD['xyz']) - _min\n",
    "    A=DD['a']\n",
    "    __shape=np.array(A.shape)\n",
    "    other_corner=corner+__shape\n",
    "\n",
    "    Bin=A>0.5 # using 0.5 as threshold on probability.\n",
    "    fraction=sum(Bin.flatten())/Bin.size\n",
    "    print(key,corner,__shape,other_corner,fraction)\n",
    "\n",
    "    bit_i=2**i\n",
    "    stamp=np.array(Bin*bit_i,dtype=np.int64)\n",
    "    #print(stamp.shape)\n",
    "\n",
    "    atlas[corner[0]:other_corner[0],\n",
    "                        corner[1]:other_corner[1],\n",
    "                        corner[2]:other_corner[2]]=\\\n",
    "    np.bitwise_or(atlas[corner[0]:other_corner[0],\n",
    "                        corner[1]:other_corner[1],\n",
    "                        corner[2]:other_corner[2]],stamp)\n"
   ]
  },
  {
   "cell_type": "code",
   "execution_count": 154,
   "metadata": {
    "ExecuteTime": {
     "end_time": "2018-07-04T21:58:17.179965Z",
     "start_time": "2018-07-04T21:58:16.443518Z"
    }
   },
   "outputs": [
    {
     "data": {
      "text/plain": [
       "0.06247905384573821"
      ]
     },
     "execution_count": 154,
     "metadata": {},
     "output_type": "execute_result"
    }
   ],
   "source": [
    "sum(atlas>0)/atlas.size"
   ]
  },
  {
   "cell_type": "code",
   "execution_count": 155,
   "metadata": {
    "ExecuteTime": {
     "end_time": "2018-07-04T21:58:40.660403Z",
     "start_time": "2018-07-04T21:58:40.658107Z"
    }
   },
   "outputs": [],
   "source": [
    "from collections import Counter"
   ]
  },
  {
   "cell_type": "code",
   "execution_count": 158,
   "metadata": {
    "ExecuteTime": {
     "end_time": "2018-07-04T22:01:16.245522Z",
     "start_time": "2018-07-04T21:59:44.169890Z"
    }
   },
   "outputs": [],
   "source": [
    "c=Counter()\n",
    "for x in atlas.flatten():\n",
    "    c[x]+=1"
   ]
  },
  {
   "cell_type": "code",
   "execution_count": 161,
   "metadata": {
    "ExecuteTime": {
     "end_time": "2018-07-04T22:02:08.773724Z",
     "start_time": "2018-07-04T22:02:08.766400Z"
    }
   },
   "outputs": [
    {
     "data": {
      "text/plain": [
       "Counter({0: 184352361,\n",
       "         1: 3799,\n",
       "         2: 4855,\n",
       "         4: 116232,\n",
       "         5: 8638,\n",
       "         6: 7582,\n",
       "         8: 13720,\n",
       "         16: 13720,\n",
       "         32: 935,\n",
       "         64: 935,\n",
       "         128: 65737,\n",
       "         256: 77693,\n",
       "         512: 2468,\n",
       "         1024: 2468,\n",
       "         2048: 153587,\n",
       "         2176: 11956,\n",
       "         4096: 165543,\n",
       "         8192: 3341,\n",
       "         16384: 3341,\n",
       "         32768: 16713,\n",
       "         65536: 100732,\n",
       "         131072: 100732,\n",
       "         262144: 2653574,\n",
       "         524288: 22794,\n",
       "         1048576: 22794,\n",
       "         2097152: 98937,\n",
       "         4194304: 98937,\n",
       "         8388608: 7006,\n",
       "         16777216: 7006,\n",
       "         33554432: 184782,\n",
       "         67108864: 194706,\n",
       "         134217728: 52219,\n",
       "         268435456: 52219,\n",
       "         536870912: 285976,\n",
       "         570425344: 67858,\n",
       "         603979776: 57934,\n",
       "         1073741824: 3790071,\n",
       "         2147483648: 23207,\n",
       "         2281701376: 1,\n",
       "         4294967296: 23207,\n",
       "         4563402752: 1,\n",
       "         8589934592: 434562,\n",
       "         17179869184: 434562,\n",
       "         34359738368: 404236,\n",
       "         68719476736: 404236,\n",
       "         137438953472: 255477,\n",
       "         171798691840: 32239,\n",
       "         274877906944: 255477,\n",
       "         343597383680: 32239,\n",
       "         549755813888: 399211,\n",
       "         549755879424: 8820,\n",
       "         1099511627776: 399211,\n",
       "         1099511758848: 8820,\n",
       "         2199023255552: 36428,\n",
       "         4398046511104: 36428,\n",
       "         8796093022208: 151768,\n",
       "         17592186044416: 151768,\n",
       "         35184372088832: 51770,\n",
       "         35184372154368: 13439,\n",
       "         70368744177664: 51770,\n",
       "         70368744308736: 13439,\n",
       "         140737488355328: 95954,\n",
       "         281474976710656: 95954})"
      ]
     },
     "execution_count": 161,
     "metadata": {},
     "output_type": "execute_result"
    }
   ],
   "source": [
    "c"
   ]
  },
  {
   "cell_type": "code",
   "execution_count": 182,
   "metadata": {
    "ExecuteTime": {
     "end_time": "2018-07-04T22:25:53.229223Z",
     "start_time": "2018-07-04T22:25:53.221326Z"
    }
   },
   "outputs": [
    {
     "data": {
      "text/plain": [
       "(0, 1, 2, 3, 4, 5, 6, 7)"
      ]
     },
     "execution_count": 182,
     "metadata": {},
     "output_type": "execute_result"
    }
   ],
   "source": [
    "def find_ones(k):\n",
    "    j=int(k)\n",
    "    a=[]\n",
    "    i=0\n",
    "    while j>0:\n",
    "        #print(i,j)\n",
    "        if j%2==1:\n",
    "            a.append(i)\n",
    "        i+=1\n",
    "        j=int(j/2)\n",
    "    return tuple(a)\n",
    "find_ones(255)     "
   ]
  },
  {
   "cell_type": "code",
   "execution_count": 192,
   "metadata": {
    "ExecuteTime": {
     "end_time": "2018-07-04T22:51:12.766512Z",
     "start_time": "2018-07-04T22:51:12.753125Z"
    }
   },
   "outputs": [
    {
     "name": "stdout",
     "output_type": "stream",
     "text": [
      "0 () 184352361\n",
      "1 (33,) 434562\n",
      "2 (34,) 434562\n",
      "3 (31,) 23207\n",
      "4 (32,) 23207\n",
      "5 (30,) 3790071\n",
      "6 (27,) 52219\n",
      "7 (28,) 52219\n",
      "8 (25,) 184782\n",
      "9 (26,) 194706\n",
      "10 (27, 31) 1\n",
      "11 (28, 32) 1\n",
      "12 (3,) 13720\n",
      "13 (4,) 13720\n",
      "14 (29,) 285976\n",
      "15 (25, 29) 67858\n",
      "16 (26, 29) 57934\n",
      "17 (18,) 2653574\n",
      "18 (47,) 95954\n",
      "19 (48,) 95954\n",
      "20 (41,) 36428\n",
      "21 (42,) 36428\n",
      "22 (23,) 7006\n",
      "23 (24,) 7006\n",
      "24 (5,) 935\n",
      "25 (6,) 935\n",
      "26 (7,) 65737\n",
      "27 (8,) 77693\n",
      "28 (43,) 151768\n",
      "29 (44,) 151768\n",
      "30 (11,) 153587\n",
      "31 (12,) 165543\n",
      "32 (7, 11) 11956\n",
      "33 (19,) 22794\n",
      "34 (20,) 22794\n",
      "35 (39,) 399211\n",
      "36 (40,) 399211\n",
      "37 (9,) 2468\n",
      "38 (10,) 2468\n",
      "39 (16,) 100732\n",
      "40 (17,) 100732\n",
      "41 (16, 39) 8820\n",
      "42 (17, 40) 8820\n",
      "43 (16, 45) 13439\n",
      "44 (17, 46) 13439\n",
      "45 (45,) 51770\n",
      "46 (46,) 51770\n",
      "47 (13,) 3341\n",
      "48 (14,) 3341\n",
      "49 (37,) 255477\n",
      "50 (38,) 255477\n",
      "51 (21,) 98937\n",
      "52 (22,) 98937\n",
      "53 (2,) 116232\n",
      "54 (0,) 3799\n",
      "55 (1,) 4855\n",
      "56 (0, 2) 8638\n",
      "57 (1, 2) 7582\n",
      "58 (15,) 16713\n",
      "59 (35, 37) 32239\n",
      "60 (35,) 404236\n",
      "61 (36,) 404236\n",
      "62 (36, 38) 32239\n"
     ]
    }
   ],
   "source": [
    "Single2Multi={}\n",
    "Multi2Single={}\n",
    "binary2Single={}\n",
    "i=0\n",
    "for key in c:\n",
    "    L=find_ones(key)\n",
    "    Single2Multi[i]=L\n",
    "    Multi2Single[L]=i\n",
    "    binary2Single[key]=i\n",
    "    print(i,L,c[key])\n",
    "    i+=1"
   ]
  },
  {
   "cell_type": "code",
   "execution_count": 193,
   "metadata": {
    "ExecuteTime": {
     "end_time": "2018-07-04T22:51:39.619772Z",
     "start_time": "2018-07-04T22:51:39.613924Z"
    }
   },
   "outputs": [
    {
     "data": {
      "text/plain": [
       "{0: 0,\n",
       " 1: 54,\n",
       " 2: 55,\n",
       " 4: 53,\n",
       " 5: 56,\n",
       " 6: 57,\n",
       " 8: 12,\n",
       " 16: 13,\n",
       " 32: 24,\n",
       " 64: 25,\n",
       " 128: 26,\n",
       " 256: 27,\n",
       " 512: 37,\n",
       " 1024: 38,\n",
       " 2048: 30,\n",
       " 2176: 32,\n",
       " 4096: 31,\n",
       " 8192: 47,\n",
       " 16384: 48,\n",
       " 32768: 58,\n",
       " 65536: 39,\n",
       " 131072: 40,\n",
       " 262144: 17,\n",
       " 524288: 33,\n",
       " 1048576: 34,\n",
       " 2097152: 51,\n",
       " 4194304: 52,\n",
       " 8388608: 22,\n",
       " 16777216: 23,\n",
       " 33554432: 8,\n",
       " 67108864: 9,\n",
       " 134217728: 6,\n",
       " 268435456: 7,\n",
       " 536870912: 14,\n",
       " 570425344: 15,\n",
       " 603979776: 16,\n",
       " 1073741824: 5,\n",
       " 2147483648: 3,\n",
       " 2281701376: 10,\n",
       " 4294967296: 4,\n",
       " 4563402752: 11,\n",
       " 8589934592: 1,\n",
       " 17179869184: 2,\n",
       " 34359738368: 60,\n",
       " 68719476736: 61,\n",
       " 137438953472: 49,\n",
       " 171798691840: 59,\n",
       " 274877906944: 50,\n",
       " 343597383680: 62,\n",
       " 549755813888: 35,\n",
       " 549755879424: 41,\n",
       " 1099511627776: 36,\n",
       " 1099511758848: 42,\n",
       " 2199023255552: 20,\n",
       " 4398046511104: 21,\n",
       " 8796093022208: 28,\n",
       " 17592186044416: 29,\n",
       " 35184372088832: 45,\n",
       " 35184372154368: 43,\n",
       " 70368744177664: 46,\n",
       " 70368744308736: 44,\n",
       " 140737488355328: 18,\n",
       " 281474976710656: 19}"
      ]
     },
     "execution_count": 193,
     "metadata": {},
     "output_type": "execute_result"
    }
   ],
   "source": [
    "binary2Single"
   ]
  },
  {
   "cell_type": "code",
   "execution_count": 186,
   "metadata": {
    "ExecuteTime": {
     "end_time": "2018-07-04T22:28:24.317463Z",
     "start_time": "2018-07-04T22:28:24.314948Z"
    }
   },
   "outputs": [],
   "source": [
    "compressed_atlas=np.zeros(_shape,dtype=np.int8)"
   ]
  },
  {
   "cell_type": "code",
   "execution_count": 194,
   "metadata": {
    "ExecuteTime": {
     "end_time": "2018-07-04T22:52:12.301377Z",
     "start_time": "2018-07-04T22:52:12.298772Z"
    }
   },
   "outputs": [],
   "source": [
    "def map2Single(bits):\n",
    "    \"\"\" maps a bit-encoded index to a single index\"\"\"\n",
    "    return binary2Single[bits]"
   ]
  },
  {
   "cell_type": "code",
   "execution_count": 195,
   "metadata": {
    "ExecuteTime": {
     "end_time": "2018-07-04T22:52:15.894780Z",
     "start_time": "2018-07-04T22:52:15.889828Z"
    }
   },
   "outputs": [
    {
     "data": {
      "text/plain": [
       "50"
      ]
     },
     "execution_count": 195,
     "metadata": {},
     "output_type": "execute_result"
    }
   ],
   "source": [
    "map2Single(274877906944)"
   ]
  },
  {
   "cell_type": "code",
   "execution_count": 196,
   "metadata": {
    "ExecuteTime": {
     "end_time": "2018-07-04T22:52:20.367287Z",
     "start_time": "2018-07-04T22:52:20.364794Z"
    }
   },
   "outputs": [],
   "source": [
    "vec_map2Single=np.vectorize(map2Single)"
   ]
  },
  {
   "cell_type": "code",
   "execution_count": 197,
   "metadata": {
    "ExecuteTime": {
     "end_time": "2018-07-04T22:53:32.486991Z",
     "start_time": "2018-07-04T22:52:25.318886Z"
    }
   },
   "outputs": [],
   "source": [
    "c_atlas=vec_map2Single(atlas)"
   ]
  },
  {
   "cell_type": "code",
   "execution_count": 209,
   "metadata": {
    "ExecuteTime": {
     "end_time": "2018-07-04T23:03:56.398958Z",
     "start_time": "2018-07-04T23:03:56.395777Z"
    }
   },
   "outputs": [
    {
     "data": {
      "text/plain": [
       "numpy.ndarray"
      ]
     },
     "execution_count": 209,
     "metadata": {},
     "output_type": "execute_result"
    }
   ],
   "source": [
    "type(c_atlas)"
   ]
  },
  {
   "cell_type": "code",
   "execution_count": 200,
   "metadata": {
    "ExecuteTime": {
     "end_time": "2018-07-04T22:58:41.023839Z",
     "start_time": "2018-07-04T22:58:36.722130Z"
    }
   },
   "outputs": [
    {
     "data": {
      "image/png": "[encoded data removed]",
      "text/plain": [
       "<Figure size 432x288 with 1 Axes>"
      ]
     },
     "metadata": {},
     "output_type": "display_data"
    }
   ],
   "source": [
    "hist(c_atlas.flatten(),bins=100);"
   ]
  },
  {
   "cell_type": "code",
   "execution_count": 205,
   "metadata": {
    "ExecuteTime": {
     "end_time": "2018-07-04T23:02:21.306109Z",
     "start_time": "2018-07-04T23:02:19.780327Z"
    }
   },
   "outputs": [],
   "source": [
    "np.save(open('../../v_atlas/compressed_atlas.npy','wb'),c_atlas)"
   ]
  },
  {
   "cell_type": "code",
   "execution_count": 212,
   "metadata": {
    "ExecuteTime": {
     "end_time": "2018-07-04T23:18:56.944196Z",
     "start_time": "2018-07-04T23:18:56.940435Z"
    }
   },
   "outputs": [],
   "source": [
    "meta_information={\n",
    "    'description':\"\"\"This file contains the meta-information pertaining to the \n",
    "    compressed atlas.\n",
    "    'sorted_keys':a list of pairs that relate structure names to integer indices\n",
    "    In the compressed atlas each occuring combination of structures (the result of overlap) \n",
    "    is mapped into a single index. the following defines these mappings\n",
    "    'Single2Multi':  maps a single index to a combination of indices (including empty)\n",
    "    'Multi2Single': the reverse of single2Multi\n",
    "    \"\"\",\n",
    "    'sorted_keys':sorted_keys,\n",
    "    'Single2Multi':Single2Multi,\n",
    "    'Multi2Single':Multi2Single,\n",
    "    'binary2Single':binary2Single\n",
    "}"
   ]
  },
  {
   "cell_type": "code",
   "execution_count": 214,
   "metadata": {
    "ExecuteTime": {
     "end_time": "2018-07-04T23:20:23.298178Z",
     "start_time": "2018-07-04T23:20:23.266715Z"
    }
   },
   "outputs": [],
   "source": [
    "import pickle\n",
    "pickle.dump(meta_information,open('../../v_atlas/meta_information.pkl','wb'))"
   ]
  },
  {
   "cell_type": "code",
   "execution_count": null,
   "metadata": {},
   "outputs": [],
   "source": []
  }
 ],
 "metadata": {
  "hide_input": false,
  "kernelspec": {
   "display_name": "Python 3",
   "language": "python",
   "name": "python3"
  },
  "language_info": {
   "codemirror_mode": {
    "name": "ipython",
    "version": 3
   },
   "file_extension": ".py",
   "mimetype": "text/x-python",
   "name": "python",
   "nbconvert_exporter": "python",
   "pygments_lexer": "ipython3",
   "version": "3.6.4"
  },
  "toc": {
   "base_numbering": 1,
   "nav_menu": {},
   "number_sections": true,
   "sideBar": true,
   "skip_h1_title": false,
   "title_cell": "Table of Contents",
   "title_sidebar": "Contents",
   "toc_cell": false,
   "toc_position": {},
   "toc_section_display": true,
   "toc_window_display": false
  }
 },
 "nbformat": 4,
 "nbformat_minor": 2
}
